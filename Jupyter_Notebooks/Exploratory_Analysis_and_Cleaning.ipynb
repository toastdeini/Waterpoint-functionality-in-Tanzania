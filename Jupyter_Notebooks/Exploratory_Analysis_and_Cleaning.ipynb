{
 "cells": [
  {
   "cell_type": "markdown",
   "metadata": {},
   "source": [
    "# Exploratory Analysis and Data Cleaning"
   ]
  },
  {
   "cell_type": "code",
   "execution_count": 4,
   "metadata": {
    "ExecuteTime": {
     "end_time": "2022-04-21T14:33:04.687083Z",
     "start_time": "2022-04-21T14:33:03.604810Z"
    }
   },
   "outputs": [],
   "source": [
    "# Packages for data cleaning, plotting, and manipulation\n",
    "\n",
    "import pandas as pd\n",
    "import numpy as np\n",
    "import matplotlib.pyplot as plt\n",
    "import seaborn as sns\n",
    "%matplotlib inline\n",
    "\n",
    "# scikit-learn libraries/functions/classes\n",
    "\n",
    "# from sklearn.tree import DecisionTreeClassifier\n",
    "# from sklearn.preprocessing import OneHotEncoder, LabelEncoder, StandardScaler\n",
    "# from sklearn.pipeline import Pipeline\n",
    "# from sklearn.model_selection import train_test_split, GridSearchCV, cross_val_score\n",
    "# from sklearn.metrics import accuracy_score, precision_score, recall_score\n",
    "# from sklearn.linear_model import LogisticRegression, RidgeCV\n",
    "# from sklearn.impute import SimpleImputer, KNNImputer\n",
    "# from sklearn.ensemble import RandomForestClassifier, GradientBoostingClassifier, \\\n",
    "#                              StackingClassifier, ExtraTreesClassifier\n",
    "# from sklearn.dummy import DummyClassifier\n",
    "# from sklearn.compose import ColumnTransformer"
   ]
  },
  {
   "cell_type": "code",
   "execution_count": 5,
   "metadata": {
    "ExecuteTime": {
     "end_time": "2022-04-21T14:33:04.702714Z",
     "start_time": "2022-04-21T14:33:04.692107Z"
    },
    "scrolled": true
   },
   "outputs": [],
   "source": [
    "# Shows *all* columns in dataframe, i.e. does not truncate horizontally;\n",
    "# feel free to comment out if undesired\n",
    "\n",
    "pd.set_option('display.max_columns', None)"
   ]
  },
  {
   "cell_type": "markdown",
   "metadata": {},
   "source": [
    "# Data Loading and Overview"
   ]
  },
  {
   "cell_type": "markdown",
   "metadata": {},
   "source": [
    "Descriptions of each column can be found at [this link](data_dict_basic.txt) within this repository."
   ]
  },
  {
   "cell_type": "code",
   "execution_count": 6,
   "metadata": {
    "ExecuteTime": {
     "end_time": "2022-04-21T14:33:05.166294Z",
     "start_time": "2022-04-21T14:33:04.703222Z"
    },
    "scrolled": true
   },
   "outputs": [],
   "source": [
    "# Importing training data\n",
    "train_val = pd.read_csv('../data/training_set_values.csv')\n",
    "\n",
    "# Only using `status_group` column from label set, to\n",
    "# avoid duplicating `id` column\n",
    "train_label = pd.read_csv('../data/training_set_labels.csv',\n",
    "                             usecols = ['status_group'])\n",
    "\n",
    "\n",
    "# Test set - not to be used until models have been trained,\n",
    "# internally validated, etc.\n",
    "\n",
    "test_df = pd.read_csv('../data/test_set_values.csv')"
   ]
  },
  {
   "cell_type": "code",
   "execution_count": 7,
   "metadata": {
    "ExecuteTime": {
     "end_time": "2022-04-21T14:33:05.218498Z",
     "start_time": "2022-04-21T14:33:05.171179Z"
    },
    "scrolled": false
   },
   "outputs": [],
   "source": [
    "# Concatenating separate .csv files\n",
    "df = pd.concat(objs = [train_val, train_label],\n",
    "               axis = 1)"
   ]
  },
  {
   "cell_type": "code",
   "execution_count": 8,
   "metadata": {
    "ExecuteTime": {
     "end_time": "2022-04-21T14:33:05.300099Z",
     "start_time": "2022-04-21T14:33:05.222479Z"
    }
   },
   "outputs": [
    {
     "data": {
      "text/html": [
       "<div>\n",
       "<style scoped>\n",
       "    .dataframe tbody tr th:only-of-type {\n",
       "        vertical-align: middle;\n",
       "    }\n",
       "\n",
       "    .dataframe tbody tr th {\n",
       "        vertical-align: top;\n",
       "    }\n",
       "\n",
       "    .dataframe thead th {\n",
       "        text-align: right;\n",
       "    }\n",
       "</style>\n",
       "<table border=\"1\" class=\"dataframe\">\n",
       "  <thead>\n",
       "    <tr style=\"text-align: right;\">\n",
       "      <th></th>\n",
       "      <th>id</th>\n",
       "      <th>amount_tsh</th>\n",
       "      <th>date_recorded</th>\n",
       "      <th>funder</th>\n",
       "      <th>gps_height</th>\n",
       "      <th>installer</th>\n",
       "      <th>longitude</th>\n",
       "      <th>latitude</th>\n",
       "      <th>wpt_name</th>\n",
       "      <th>num_private</th>\n",
       "      <th>basin</th>\n",
       "      <th>subvillage</th>\n",
       "      <th>region</th>\n",
       "      <th>region_code</th>\n",
       "      <th>district_code</th>\n",
       "      <th>lga</th>\n",
       "      <th>ward</th>\n",
       "      <th>population</th>\n",
       "      <th>public_meeting</th>\n",
       "      <th>recorded_by</th>\n",
       "      <th>scheme_management</th>\n",
       "      <th>scheme_name</th>\n",
       "      <th>permit</th>\n",
       "      <th>construction_year</th>\n",
       "      <th>extraction_type</th>\n",
       "      <th>extraction_type_group</th>\n",
       "      <th>extraction_type_class</th>\n",
       "      <th>management</th>\n",
       "      <th>management_group</th>\n",
       "      <th>payment</th>\n",
       "      <th>payment_type</th>\n",
       "      <th>water_quality</th>\n",
       "      <th>quality_group</th>\n",
       "      <th>quantity</th>\n",
       "      <th>quantity_group</th>\n",
       "      <th>source</th>\n",
       "      <th>source_type</th>\n",
       "      <th>source_class</th>\n",
       "      <th>waterpoint_type</th>\n",
       "      <th>waterpoint_type_group</th>\n",
       "      <th>status_group</th>\n",
       "    </tr>\n",
       "  </thead>\n",
       "  <tbody>\n",
       "    <tr>\n",
       "      <th>27487</th>\n",
       "      <td>60684</td>\n",
       "      <td>0.0</td>\n",
       "      <td>2013-02-15</td>\n",
       "      <td>Dwe</td>\n",
       "      <td>1137</td>\n",
       "      <td>DWE</td>\n",
       "      <td>37.136702</td>\n",
       "      <td>-4.075092</td>\n",
       "      <td>Madukani</td>\n",
       "      <td>0</td>\n",
       "      <td>Pangani</td>\n",
       "      <td>Madukani</td>\n",
       "      <td>Manyara</td>\n",
       "      <td>21</td>\n",
       "      <td>4</td>\n",
       "      <td>Simanjiro</td>\n",
       "      <td>Naberera</td>\n",
       "      <td>200</td>\n",
       "      <td>True</td>\n",
       "      <td>GeoData Consultants Ltd</td>\n",
       "      <td>VWC</td>\n",
       "      <td>Lendanai pipe scheme</td>\n",
       "      <td>True</td>\n",
       "      <td>1996</td>\n",
       "      <td>gravity</td>\n",
       "      <td>gravity</td>\n",
       "      <td>gravity</td>\n",
       "      <td>vwc</td>\n",
       "      <td>user-group</td>\n",
       "      <td>unknown</td>\n",
       "      <td>unknown</td>\n",
       "      <td>soft</td>\n",
       "      <td>good</td>\n",
       "      <td>enough</td>\n",
       "      <td>enough</td>\n",
       "      <td>spring</td>\n",
       "      <td>spring</td>\n",
       "      <td>groundwater</td>\n",
       "      <td>communal standpipe</td>\n",
       "      <td>communal standpipe</td>\n",
       "      <td>non functional</td>\n",
       "    </tr>\n",
       "    <tr>\n",
       "      <th>52964</th>\n",
       "      <td>457</td>\n",
       "      <td>0.0</td>\n",
       "      <td>2011-04-06</td>\n",
       "      <td>NaN</td>\n",
       "      <td>0</td>\n",
       "      <td>NaN</td>\n",
       "      <td>34.368774</td>\n",
       "      <td>-8.767996</td>\n",
       "      <td>Kwa Mzee Lusambo</td>\n",
       "      <td>0</td>\n",
       "      <td>Rufiji</td>\n",
       "      <td>Barabarani</td>\n",
       "      <td>Mbeya</td>\n",
       "      <td>12</td>\n",
       "      <td>7</td>\n",
       "      <td>Mbarali</td>\n",
       "      <td>Rujewa</td>\n",
       "      <td>0</td>\n",
       "      <td>False</td>\n",
       "      <td>GeoData Consultants Ltd</td>\n",
       "      <td>Water Board</td>\n",
       "      <td>NaN</td>\n",
       "      <td>True</td>\n",
       "      <td>0</td>\n",
       "      <td>gravity</td>\n",
       "      <td>gravity</td>\n",
       "      <td>gravity</td>\n",
       "      <td>water board</td>\n",
       "      <td>user-group</td>\n",
       "      <td>never pay</td>\n",
       "      <td>never pay</td>\n",
       "      <td>soft</td>\n",
       "      <td>good</td>\n",
       "      <td>seasonal</td>\n",
       "      <td>seasonal</td>\n",
       "      <td>river</td>\n",
       "      <td>river/lake</td>\n",
       "      <td>surface</td>\n",
       "      <td>communal standpipe</td>\n",
       "      <td>communal standpipe</td>\n",
       "      <td>non functional</td>\n",
       "    </tr>\n",
       "    <tr>\n",
       "      <th>26478</th>\n",
       "      <td>7855</td>\n",
       "      <td>50.0</td>\n",
       "      <td>2011-03-24</td>\n",
       "      <td>Private Individual</td>\n",
       "      <td>-8</td>\n",
       "      <td>Da</td>\n",
       "      <td>38.991011</td>\n",
       "      <td>-6.537616</td>\n",
       "      <td>Bakari</td>\n",
       "      <td>0</td>\n",
       "      <td>Wami / Ruvu</td>\n",
       "      <td>Mchanga Wa Kichwa A</td>\n",
       "      <td>Pwani</td>\n",
       "      <td>6</td>\n",
       "      <td>1</td>\n",
       "      <td>Bagamoyo</td>\n",
       "      <td>Zinga/Ikerege</td>\n",
       "      <td>30</td>\n",
       "      <td>True</td>\n",
       "      <td>GeoData Consultants Ltd</td>\n",
       "      <td>Company</td>\n",
       "      <td>Bagamoyo wate</td>\n",
       "      <td>True</td>\n",
       "      <td>2011</td>\n",
       "      <td>ksb</td>\n",
       "      <td>submersible</td>\n",
       "      <td>submersible</td>\n",
       "      <td>private operator</td>\n",
       "      <td>commercial</td>\n",
       "      <td>pay per bucket</td>\n",
       "      <td>per bucket</td>\n",
       "      <td>soft</td>\n",
       "      <td>good</td>\n",
       "      <td>enough</td>\n",
       "      <td>enough</td>\n",
       "      <td>river</td>\n",
       "      <td>river/lake</td>\n",
       "      <td>surface</td>\n",
       "      <td>communal standpipe</td>\n",
       "      <td>communal standpipe</td>\n",
       "      <td>functional</td>\n",
       "    </tr>\n",
       "    <tr>\n",
       "      <th>59113</th>\n",
       "      <td>50299</td>\n",
       "      <td>0.0</td>\n",
       "      <td>2013-03-19</td>\n",
       "      <td>Government Of Tanzania</td>\n",
       "      <td>1068</td>\n",
       "      <td>DWE</td>\n",
       "      <td>36.806314</td>\n",
       "      <td>-3.448869</td>\n",
       "      <td>Kwa Elishirikiamwea Swai</td>\n",
       "      <td>0</td>\n",
       "      <td>Pangani</td>\n",
       "      <td>Upendo</td>\n",
       "      <td>Arusha</td>\n",
       "      <td>2</td>\n",
       "      <td>2</td>\n",
       "      <td>Arusha Rural</td>\n",
       "      <td>Mlangarini</td>\n",
       "      <td>150</td>\n",
       "      <td>True</td>\n",
       "      <td>GeoData Consultants Ltd</td>\n",
       "      <td>VWC</td>\n",
       "      <td>Machumba estate pipe line</td>\n",
       "      <td>True</td>\n",
       "      <td>1988</td>\n",
       "      <td>gravity</td>\n",
       "      <td>gravity</td>\n",
       "      <td>gravity</td>\n",
       "      <td>vwc</td>\n",
       "      <td>user-group</td>\n",
       "      <td>never pay</td>\n",
       "      <td>never pay</td>\n",
       "      <td>soft</td>\n",
       "      <td>good</td>\n",
       "      <td>enough</td>\n",
       "      <td>enough</td>\n",
       "      <td>spring</td>\n",
       "      <td>spring</td>\n",
       "      <td>groundwater</td>\n",
       "      <td>other</td>\n",
       "      <td>other</td>\n",
       "      <td>functional</td>\n",
       "    </tr>\n",
       "    <tr>\n",
       "      <th>14153</th>\n",
       "      <td>70382</td>\n",
       "      <td>0.0</td>\n",
       "      <td>2011-07-27</td>\n",
       "      <td>He</td>\n",
       "      <td>0</td>\n",
       "      <td>HE</td>\n",
       "      <td>31.635313</td>\n",
       "      <td>-1.718094</td>\n",
       "      <td>Kabubuya</td>\n",
       "      <td>0</td>\n",
       "      <td>Lake Victoria</td>\n",
       "      <td>Bubuya</td>\n",
       "      <td>Kagera</td>\n",
       "      <td>18</td>\n",
       "      <td>3</td>\n",
       "      <td>Muleba</td>\n",
       "      <td>Ijumbi</td>\n",
       "      <td>0</td>\n",
       "      <td>True</td>\n",
       "      <td>GeoData Consultants Ltd</td>\n",
       "      <td>VWC</td>\n",
       "      <td>NaN</td>\n",
       "      <td>True</td>\n",
       "      <td>0</td>\n",
       "      <td>gravity</td>\n",
       "      <td>gravity</td>\n",
       "      <td>gravity</td>\n",
       "      <td>vwc</td>\n",
       "      <td>user-group</td>\n",
       "      <td>never pay</td>\n",
       "      <td>never pay</td>\n",
       "      <td>soft</td>\n",
       "      <td>good</td>\n",
       "      <td>enough</td>\n",
       "      <td>enough</td>\n",
       "      <td>spring</td>\n",
       "      <td>spring</td>\n",
       "      <td>groundwater</td>\n",
       "      <td>hand pump</td>\n",
       "      <td>hand pump</td>\n",
       "      <td>non functional</td>\n",
       "    </tr>\n",
       "  </tbody>\n",
       "</table>\n",
       "</div>"
      ],
      "text/plain": [
       "          id  amount_tsh date_recorded                  funder  gps_height  \\\n",
       "27487  60684         0.0    2013-02-15                     Dwe        1137   \n",
       "52964    457         0.0    2011-04-06                     NaN           0   \n",
       "26478   7855        50.0    2011-03-24      Private Individual          -8   \n",
       "59113  50299         0.0    2013-03-19  Government Of Tanzania        1068   \n",
       "14153  70382         0.0    2011-07-27                      He           0   \n",
       "\n",
       "      installer  longitude  latitude                  wpt_name  num_private  \\\n",
       "27487       DWE  37.136702 -4.075092                  Madukani            0   \n",
       "52964       NaN  34.368774 -8.767996          Kwa Mzee Lusambo            0   \n",
       "26478        Da  38.991011 -6.537616                    Bakari            0   \n",
       "59113       DWE  36.806314 -3.448869  Kwa Elishirikiamwea Swai            0   \n",
       "14153        HE  31.635313 -1.718094                  Kabubuya            0   \n",
       "\n",
       "               basin           subvillage   region  region_code  \\\n",
       "27487        Pangani             Madukani  Manyara           21   \n",
       "52964         Rufiji           Barabarani    Mbeya           12   \n",
       "26478    Wami / Ruvu  Mchanga Wa Kichwa A    Pwani            6   \n",
       "59113        Pangani               Upendo   Arusha            2   \n",
       "14153  Lake Victoria               Bubuya   Kagera           18   \n",
       "\n",
       "       district_code           lga           ward  population public_meeting  \\\n",
       "27487              4     Simanjiro       Naberera         200           True   \n",
       "52964              7       Mbarali         Rujewa           0          False   \n",
       "26478              1      Bagamoyo  Zinga/Ikerege          30           True   \n",
       "59113              2  Arusha Rural     Mlangarini         150           True   \n",
       "14153              3        Muleba         Ijumbi           0           True   \n",
       "\n",
       "                   recorded_by scheme_management                scheme_name  \\\n",
       "27487  GeoData Consultants Ltd               VWC       Lendanai pipe scheme   \n",
       "52964  GeoData Consultants Ltd       Water Board                        NaN   \n",
       "26478  GeoData Consultants Ltd           Company              Bagamoyo wate   \n",
       "59113  GeoData Consultants Ltd               VWC  Machumba estate pipe line   \n",
       "14153  GeoData Consultants Ltd               VWC                        NaN   \n",
       "\n",
       "      permit  construction_year extraction_type extraction_type_group  \\\n",
       "27487   True               1996         gravity               gravity   \n",
       "52964   True                  0         gravity               gravity   \n",
       "26478   True               2011             ksb           submersible   \n",
       "59113   True               1988         gravity               gravity   \n",
       "14153   True                  0         gravity               gravity   \n",
       "\n",
       "      extraction_type_class        management management_group  \\\n",
       "27487               gravity               vwc       user-group   \n",
       "52964               gravity       water board       user-group   \n",
       "26478           submersible  private operator       commercial   \n",
       "59113               gravity               vwc       user-group   \n",
       "14153               gravity               vwc       user-group   \n",
       "\n",
       "              payment payment_type water_quality quality_group  quantity  \\\n",
       "27487         unknown      unknown          soft          good    enough   \n",
       "52964       never pay    never pay          soft          good  seasonal   \n",
       "26478  pay per bucket   per bucket          soft          good    enough   \n",
       "59113       never pay    never pay          soft          good    enough   \n",
       "14153       never pay    never pay          soft          good    enough   \n",
       "\n",
       "      quantity_group  source source_type source_class     waterpoint_type  \\\n",
       "27487         enough  spring      spring  groundwater  communal standpipe   \n",
       "52964       seasonal   river  river/lake      surface  communal standpipe   \n",
       "26478         enough   river  river/lake      surface  communal standpipe   \n",
       "59113         enough  spring      spring  groundwater               other   \n",
       "14153         enough  spring      spring  groundwater           hand pump   \n",
       "\n",
       "      waterpoint_type_group    status_group  \n",
       "27487    communal standpipe  non functional  \n",
       "52964    communal standpipe  non functional  \n",
       "26478    communal standpipe      functional  \n",
       "59113                 other      functional  \n",
       "14153             hand pump  non functional  "
      ]
     },
     "execution_count": 8,
     "metadata": {},
     "output_type": "execute_result"
    }
   ],
   "source": [
    "# Quick readout\n",
    "df.sample(n = 5,\n",
    "          random_state = 138)"
   ]
  },
  {
   "cell_type": "code",
   "execution_count": 9,
   "metadata": {
    "ExecuteTime": {
     "end_time": "2022-04-21T14:33:05.392192Z",
     "start_time": "2022-04-21T14:33:05.302095Z"
    }
   },
   "outputs": [
    {
     "name": "stdout",
     "output_type": "stream",
     "text": [
      "<class 'pandas.core.frame.DataFrame'>\n",
      "RangeIndex: 59400 entries, 0 to 59399\n",
      "Data columns (total 41 columns):\n",
      " #   Column                 Non-Null Count  Dtype  \n",
      "---  ------                 --------------  -----  \n",
      " 0   id                     59400 non-null  int64  \n",
      " 1   amount_tsh             59400 non-null  float64\n",
      " 2   date_recorded          59400 non-null  object \n",
      " 3   funder                 55765 non-null  object \n",
      " 4   gps_height             59400 non-null  int64  \n",
      " 5   installer              55745 non-null  object \n",
      " 6   longitude              59400 non-null  float64\n",
      " 7   latitude               59400 non-null  float64\n",
      " 8   wpt_name               59400 non-null  object \n",
      " 9   num_private            59400 non-null  int64  \n",
      " 10  basin                  59400 non-null  object \n",
      " 11  subvillage             59029 non-null  object \n",
      " 12  region                 59400 non-null  object \n",
      " 13  region_code            59400 non-null  int64  \n",
      " 14  district_code          59400 non-null  int64  \n",
      " 15  lga                    59400 non-null  object \n",
      " 16  ward                   59400 non-null  object \n",
      " 17  population             59400 non-null  int64  \n",
      " 18  public_meeting         56066 non-null  object \n",
      " 19  recorded_by            59400 non-null  object \n",
      " 20  scheme_management      55523 non-null  object \n",
      " 21  scheme_name            31234 non-null  object \n",
      " 22  permit                 56344 non-null  object \n",
      " 23  construction_year      59400 non-null  int64  \n",
      " 24  extraction_type        59400 non-null  object \n",
      " 25  extraction_type_group  59400 non-null  object \n",
      " 26  extraction_type_class  59400 non-null  object \n",
      " 27  management             59400 non-null  object \n",
      " 28  management_group       59400 non-null  object \n",
      " 29  payment                59400 non-null  object \n",
      " 30  payment_type           59400 non-null  object \n",
      " 31  water_quality          59400 non-null  object \n",
      " 32  quality_group          59400 non-null  object \n",
      " 33  quantity               59400 non-null  object \n",
      " 34  quantity_group         59400 non-null  object \n",
      " 35  source                 59400 non-null  object \n",
      " 36  source_type            59400 non-null  object \n",
      " 37  source_class           59400 non-null  object \n",
      " 38  waterpoint_type        59400 non-null  object \n",
      " 39  waterpoint_type_group  59400 non-null  object \n",
      " 40  status_group           59400 non-null  object \n",
      "dtypes: float64(3), int64(7), object(31)\n",
      "memory usage: 18.6+ MB\n"
     ]
    }
   ],
   "source": [
    "df.info()"
   ]
  },
  {
   "cell_type": "markdown",
   "metadata": {},
   "source": [
    "We have about **forty** potential features here, indicated by columns `0` through `39`; column `40`, `status_group`, is our target variable. The majority (30) of those columns  are currently stored as type `object`, the remainder as either `int64` or `float64`. Whether or not the numeric type columns contain continuous data will require further investigation."
   ]
  },
  {
   "cell_type": "code",
   "execution_count": 10,
   "metadata": {
    "ExecuteTime": {
     "end_time": "2022-04-21T14:33:05.407353Z",
     "start_time": "2022-04-21T14:33:05.392192Z"
    }
   },
   "outputs": [
    {
     "name": "stdout",
     "output_type": "stream",
     "text": [
      "Train set: 59400 rows\n",
      "Test set: 14850 rows\n"
     ]
    }
   ],
   "source": [
    "# 59,400 rows of data in our training set\n",
    "print(f'Train set: {df.shape[0]} rows')\n",
    "\n",
    "# 14,850 rows of data in our test set\n",
    "print(f'Test set: {test_df.shape[0]} rows')"
   ]
  },
  {
   "cell_type": "code",
   "execution_count": 11,
   "metadata": {
    "ExecuteTime": {
     "end_time": "2022-04-21T14:33:05.429994Z",
     "start_time": "2022-04-21T14:33:05.410346Z"
    }
   },
   "outputs": [
    {
     "data": {
      "text/plain": [
       "id                         int64\n",
       "amount_tsh               float64\n",
       "date_recorded             object\n",
       "funder                    object\n",
       "gps_height                 int64\n",
       "installer                 object\n",
       "longitude                float64\n",
       "latitude                 float64\n",
       "wpt_name                  object\n",
       "num_private                int64\n",
       "basin                     object\n",
       "subvillage                object\n",
       "region                    object\n",
       "region_code                int64\n",
       "district_code              int64\n",
       "lga                       object\n",
       "ward                      object\n",
       "population                 int64\n",
       "public_meeting            object\n",
       "recorded_by               object\n",
       "scheme_management         object\n",
       "scheme_name               object\n",
       "permit                    object\n",
       "construction_year          int64\n",
       "extraction_type           object\n",
       "extraction_type_group     object\n",
       "extraction_type_class     object\n",
       "management                object\n",
       "management_group          object\n",
       "payment                   object\n",
       "payment_type              object\n",
       "water_quality             object\n",
       "quality_group             object\n",
       "quantity                  object\n",
       "quantity_group            object\n",
       "source                    object\n",
       "source_type               object\n",
       "source_class              object\n",
       "waterpoint_type           object\n",
       "waterpoint_type_group     object\n",
       "status_group              object\n",
       "dtype: object"
      ]
     },
     "execution_count": 11,
     "metadata": {},
     "output_type": "execute_result"
    }
   ],
   "source": [
    "# Checking datatypes of columns\n",
    "\n",
    "df.dtypes"
   ]
  },
  {
   "cell_type": "code",
   "execution_count": 12,
   "metadata": {
    "ExecuteTime": {
     "end_time": "2022-04-21T14:33:05.502798Z",
     "start_time": "2022-04-21T14:33:05.431990Z"
    },
    "scrolled": true
   },
   "outputs": [
    {
     "data": {
      "text/html": [
       "<div>\n",
       "<style scoped>\n",
       "    .dataframe tbody tr th:only-of-type {\n",
       "        vertical-align: middle;\n",
       "    }\n",
       "\n",
       "    .dataframe tbody tr th {\n",
       "        vertical-align: top;\n",
       "    }\n",
       "\n",
       "    .dataframe thead th {\n",
       "        text-align: right;\n",
       "    }\n",
       "</style>\n",
       "<table border=\"1\" class=\"dataframe\">\n",
       "  <thead>\n",
       "    <tr style=\"text-align: right;\">\n",
       "      <th></th>\n",
       "      <th>id</th>\n",
       "      <th>amount_tsh</th>\n",
       "      <th>gps_height</th>\n",
       "      <th>longitude</th>\n",
       "      <th>latitude</th>\n",
       "      <th>num_private</th>\n",
       "      <th>region_code</th>\n",
       "      <th>district_code</th>\n",
       "      <th>population</th>\n",
       "      <th>construction_year</th>\n",
       "    </tr>\n",
       "  </thead>\n",
       "  <tbody>\n",
       "    <tr>\n",
       "      <th>count</th>\n",
       "      <td>59400.000000</td>\n",
       "      <td>59400.000000</td>\n",
       "      <td>59400.000000</td>\n",
       "      <td>59400.000000</td>\n",
       "      <td>5.940000e+04</td>\n",
       "      <td>59400.000000</td>\n",
       "      <td>59400.000000</td>\n",
       "      <td>59400.000000</td>\n",
       "      <td>59400.000000</td>\n",
       "      <td>59400.000000</td>\n",
       "    </tr>\n",
       "    <tr>\n",
       "      <th>mean</th>\n",
       "      <td>37115.131768</td>\n",
       "      <td>317.650385</td>\n",
       "      <td>668.297239</td>\n",
       "      <td>34.077427</td>\n",
       "      <td>-5.706033e+00</td>\n",
       "      <td>0.474141</td>\n",
       "      <td>15.297003</td>\n",
       "      <td>5.629747</td>\n",
       "      <td>179.909983</td>\n",
       "      <td>1300.652475</td>\n",
       "    </tr>\n",
       "    <tr>\n",
       "      <th>std</th>\n",
       "      <td>21453.128371</td>\n",
       "      <td>2997.574558</td>\n",
       "      <td>693.116350</td>\n",
       "      <td>6.567432</td>\n",
       "      <td>2.946019e+00</td>\n",
       "      <td>12.236230</td>\n",
       "      <td>17.587406</td>\n",
       "      <td>9.633649</td>\n",
       "      <td>471.482176</td>\n",
       "      <td>951.620547</td>\n",
       "    </tr>\n",
       "    <tr>\n",
       "      <th>min</th>\n",
       "      <td>0.000000</td>\n",
       "      <td>0.000000</td>\n",
       "      <td>-90.000000</td>\n",
       "      <td>0.000000</td>\n",
       "      <td>-1.164944e+01</td>\n",
       "      <td>0.000000</td>\n",
       "      <td>1.000000</td>\n",
       "      <td>0.000000</td>\n",
       "      <td>0.000000</td>\n",
       "      <td>0.000000</td>\n",
       "    </tr>\n",
       "    <tr>\n",
       "      <th>25%</th>\n",
       "      <td>18519.750000</td>\n",
       "      <td>0.000000</td>\n",
       "      <td>0.000000</td>\n",
       "      <td>33.090347</td>\n",
       "      <td>-8.540621e+00</td>\n",
       "      <td>0.000000</td>\n",
       "      <td>5.000000</td>\n",
       "      <td>2.000000</td>\n",
       "      <td>0.000000</td>\n",
       "      <td>0.000000</td>\n",
       "    </tr>\n",
       "    <tr>\n",
       "      <th>50%</th>\n",
       "      <td>37061.500000</td>\n",
       "      <td>0.000000</td>\n",
       "      <td>369.000000</td>\n",
       "      <td>34.908743</td>\n",
       "      <td>-5.021597e+00</td>\n",
       "      <td>0.000000</td>\n",
       "      <td>12.000000</td>\n",
       "      <td>3.000000</td>\n",
       "      <td>25.000000</td>\n",
       "      <td>1986.000000</td>\n",
       "    </tr>\n",
       "    <tr>\n",
       "      <th>75%</th>\n",
       "      <td>55656.500000</td>\n",
       "      <td>20.000000</td>\n",
       "      <td>1319.250000</td>\n",
       "      <td>37.178387</td>\n",
       "      <td>-3.326156e+00</td>\n",
       "      <td>0.000000</td>\n",
       "      <td>17.000000</td>\n",
       "      <td>5.000000</td>\n",
       "      <td>215.000000</td>\n",
       "      <td>2004.000000</td>\n",
       "    </tr>\n",
       "    <tr>\n",
       "      <th>max</th>\n",
       "      <td>74247.000000</td>\n",
       "      <td>350000.000000</td>\n",
       "      <td>2770.000000</td>\n",
       "      <td>40.345193</td>\n",
       "      <td>-2.000000e-08</td>\n",
       "      <td>1776.000000</td>\n",
       "      <td>99.000000</td>\n",
       "      <td>80.000000</td>\n",
       "      <td>30500.000000</td>\n",
       "      <td>2013.000000</td>\n",
       "    </tr>\n",
       "  </tbody>\n",
       "</table>\n",
       "</div>"
      ],
      "text/plain": [
       "                 id     amount_tsh    gps_height     longitude      latitude  \\\n",
       "count  59400.000000   59400.000000  59400.000000  59400.000000  5.940000e+04   \n",
       "mean   37115.131768     317.650385    668.297239     34.077427 -5.706033e+00   \n",
       "std    21453.128371    2997.574558    693.116350      6.567432  2.946019e+00   \n",
       "min        0.000000       0.000000    -90.000000      0.000000 -1.164944e+01   \n",
       "25%    18519.750000       0.000000      0.000000     33.090347 -8.540621e+00   \n",
       "50%    37061.500000       0.000000    369.000000     34.908743 -5.021597e+00   \n",
       "75%    55656.500000      20.000000   1319.250000     37.178387 -3.326156e+00   \n",
       "max    74247.000000  350000.000000   2770.000000     40.345193 -2.000000e-08   \n",
       "\n",
       "        num_private   region_code  district_code    population  \\\n",
       "count  59400.000000  59400.000000   59400.000000  59400.000000   \n",
       "mean       0.474141     15.297003       5.629747    179.909983   \n",
       "std       12.236230     17.587406       9.633649    471.482176   \n",
       "min        0.000000      1.000000       0.000000      0.000000   \n",
       "25%        0.000000      5.000000       2.000000      0.000000   \n",
       "50%        0.000000     12.000000       3.000000     25.000000   \n",
       "75%        0.000000     17.000000       5.000000    215.000000   \n",
       "max     1776.000000     99.000000      80.000000  30500.000000   \n",
       "\n",
       "       construction_year  \n",
       "count       59400.000000  \n",
       "mean         1300.652475  \n",
       "std           951.620547  \n",
       "min             0.000000  \n",
       "25%             0.000000  \n",
       "50%          1986.000000  \n",
       "75%          2004.000000  \n",
       "max          2013.000000  "
      ]
     },
     "execution_count": 12,
     "metadata": {},
     "output_type": "execute_result"
    }
   ],
   "source": [
    "# Descriptive stats on numerical columns\n",
    "\n",
    "df.describe()"
   ]
  },
  {
   "cell_type": "markdown",
   "metadata": {},
   "source": [
    "**Takeaways:**\n",
    "- `id` is purely an identifier - it's not going to be useful for modeling purposes.\n",
    "- It's unlikely that `num_private` will be, either - we have a lot of data missing in this column (see the values for `min`, `25%`, `50%`, and `75%` in the descriptive statistics table), and the data dictionary has no articulation of what the values in this column actually indicate.\n",
    "- `construction_year` has a `mean` heavily impacted by zero values; we'll need to handle this somehow.\n",
    "- `gps_height`, `longitude`, and `latitude` are all numerical representations of location data.\n",
    "- What unit is `population` in? We'll likely need to scale this; we also have a `max` value that's *well* above the `75%` value in that column.\n",
    "    - The same applies for `amount_tsh`, which measures the total amount of water available to the waterpoint (the 'total static head')\n",
    "- `region_code` and `district_code` look like discrete, categorical data."
   ]
  },
  {
   "cell_type": "markdown",
   "metadata": {},
   "source": [
    "## Null values & duplicate records"
   ]
  },
  {
   "cell_type": "code",
   "execution_count": 13,
   "metadata": {
    "ExecuteTime": {
     "end_time": "2022-04-21T14:33:05.591419Z",
     "start_time": "2022-04-21T14:33:05.503795Z"
    },
    "scrolled": false
   },
   "outputs": [
    {
     "data": {
      "text/plain": [
       "id                           0\n",
       "amount_tsh                   0\n",
       "date_recorded                0\n",
       "funder                    3635\n",
       "gps_height                   0\n",
       "installer                 3655\n",
       "longitude                    0\n",
       "latitude                     0\n",
       "wpt_name                     0\n",
       "num_private                  0\n",
       "basin                        0\n",
       "subvillage                 371\n",
       "region                       0\n",
       "region_code                  0\n",
       "district_code                0\n",
       "lga                          0\n",
       "ward                         0\n",
       "population                   0\n",
       "public_meeting            3334\n",
       "recorded_by                  0\n",
       "scheme_management         3877\n",
       "scheme_name              28166\n",
       "permit                    3056\n",
       "construction_year            0\n",
       "extraction_type              0\n",
       "extraction_type_group        0\n",
       "extraction_type_class        0\n",
       "management                   0\n",
       "management_group             0\n",
       "payment                      0\n",
       "payment_type                 0\n",
       "water_quality                0\n",
       "quality_group                0\n",
       "quantity                     0\n",
       "quantity_group               0\n",
       "source                       0\n",
       "source_type                  0\n",
       "source_class                 0\n",
       "waterpoint_type              0\n",
       "waterpoint_type_group        0\n",
       "status_group                 0\n",
       "dtype: int64"
      ]
     },
     "execution_count": 13,
     "metadata": {},
     "output_type": "execute_result"
    }
   ],
   "source": [
    "# Checking for null values in features columns\n",
    "\n",
    "df.isna().sum()"
   ]
  },
  {
   "cell_type": "markdown",
   "metadata": {},
   "source": [
    "Columns/features with large numbers of **null values**, from least to greatest quantity:\n",
    "\n",
    "- `subvillage` (371)\n",
    "- `permit` (3056)\n",
    "- `public_meeting` (3334)\n",
    "- `funder` (3635)\n",
    "- `installer` (3655)\n",
    "- `scheme_management` (3877)\n",
    "- `scheme_name` (28166) **(!)**"
   ]
  },
  {
   "cell_type": "code",
   "execution_count": 14,
   "metadata": {
    "ExecuteTime": {
     "end_time": "2022-04-21T14:33:05.683253Z",
     "start_time": "2022-04-21T14:33:05.591419Z"
    }
   },
   "outputs": [],
   "source": [
    "# Creating a list of columns with null values\n",
    "\n",
    "has_nulls = []\n",
    "\n",
    "for col in df:\n",
    "    if df[col].isna().sum() != 0:\n",
    "        has_nulls.append(col)"
   ]
  },
  {
   "cell_type": "code",
   "execution_count": 15,
   "metadata": {
    "ExecuteTime": {
     "end_time": "2022-04-21T14:33:05.900151Z",
     "start_time": "2022-04-21T14:33:05.685218Z"
    },
    "scrolled": true
   },
   "outputs": [
    {
     "data": {
      "text/plain": [
       "False    59400\n",
       "dtype: int64"
      ]
     },
     "execution_count": 15,
     "metadata": {},
     "output_type": "execute_result"
    }
   ],
   "source": [
    "# What about duplicate rows?\n",
    "\n",
    "df.duplicated().value_counts()"
   ]
  },
  {
   "cell_type": "markdown",
   "metadata": {},
   "source": [
    "No duplicate rows - makes sense, given that this is a dataset curated for a competitiom."
   ]
  },
  {
   "cell_type": "markdown",
   "metadata": {},
   "source": [
    "## Distribution of `y`"
   ]
  },
  {
   "cell_type": "code",
   "execution_count": 16,
   "metadata": {
    "ExecuteTime": {
     "end_time": "2022-04-21T14:33:05.931424Z",
     "start_time": "2022-04-21T14:33:05.901148Z"
    }
   },
   "outputs": [
    {
     "data": {
      "text/plain": [
       "functional                 0.543081\n",
       "non functional             0.384242\n",
       "functional needs repair    0.072677\n",
       "Name: status_group, dtype: float64"
      ]
     },
     "execution_count": 16,
     "metadata": {},
     "output_type": "execute_result"
    }
   ],
   "source": [
    "df.status_group.value_counts(normalize=True)"
   ]
  },
  {
   "cell_type": "code",
   "execution_count": 50,
   "metadata": {
    "ExecuteTime": {
     "end_time": "2022-04-21T16:12:18.460308Z",
     "start_time": "2022-04-21T16:12:14.608623Z"
    },
    "scrolled": false
   },
   "outputs": [
    {
     "data": {
      "image/png": "[encoded data removed]",
      "text/plain": [
       "<Figure size 792x504 with 1 Axes>"
      ]
     },
     "metadata": {},
     "output_type": "display_data"
    }
   ],
   "source": [
    "fig, ax = plt.subplots(figsize=(11,7))\n",
    "\n",
    "sns.set_theme()\n",
    "sns.barplot(x = df.status_group.value_counts().index,\n",
    "            y = df.status_group.value_counts().values);\n",
    "ax.set_xlabel('Status',\n",
    "              labelpad = 10,\n",
    "              fontdict = {'fontsize': 14})\n",
    "ax.set_ylabel('Number of waterpoints',\n",
    "              labelpad = 10,\n",
    "              fontdict = {'fontsize': 13})\n",
    "ax.set_title('Functionality of waterpoints',\n",
    "             pad = 10,\n",
    "             fontdict = {'fontsize': 24})\n",
    "\n",
    "\n",
    "# fig.savefig(fname = '../images/target_val_counts.jpg',\n",
    "#            dpi = 1200)"
   ]
  },
  {
   "cell_type": "markdown",
   "metadata": {},
   "source": [
    "The low number of records in the `functional needs repair` status group (~7.2% of the data) presents the challenge of a class imbalance; we may need to use something like synthetic minority oversampling i.e. `SMOTE` when modeling."
   ]
  },
  {
   "cell_type": "markdown",
   "metadata": {},
   "source": [
    "# Data Comprehension and Cleaning"
   ]
  },
  {
   "cell_type": "markdown",
   "metadata": {},
   "source": [
    "## Feature investigation"
   ]
  },
  {
   "cell_type": "markdown",
   "metadata": {},
   "source": [
    "Now, I'll look into the columns a little more. Since a lot of these columns are in `object` format, what's contained within them might not be immediately clear.\n",
    "\n",
    "`basin` piqued my interest, and it's an easy way to take an exploratory dive into some categorical data, as my `.info()` indicated there are no null values in the `basin` column."
   ]
  },
  {
   "cell_type": "code",
   "execution_count": 18,
   "metadata": {
    "ExecuteTime": {
     "end_time": "2022-04-21T14:33:06.164919Z",
     "start_time": "2022-04-21T14:33:06.137372Z"
    },
    "collapsed": true
   },
   "outputs": [
    {
     "data": {
      "text/plain": [
       "Lake Victoria              10248\n",
       "Pangani                     8940\n",
       "Rufiji                      7976\n",
       "Internal                    7785\n",
       "Lake Tanganyika             6432\n",
       "Wami / Ruvu                 5987\n",
       "Lake Nyasa                  5085\n",
       "Ruvuma / Southern Coast     4493\n",
       "Lake Rukwa                  2454\n",
       "Name: basin, dtype: int64"
      ]
     },
     "execution_count": 18,
     "metadata": {},
     "output_type": "execute_result"
    }
   ],
   "source": [
    "df.basin.value_counts()"
   ]
  },
  {
   "cell_type": "markdown",
   "metadata": {},
   "source": [
    "Nine categories in total for `basin`, each of which (other than `Internal`) represents a body of water. We can use sk-learn's `OneHotEncoder` transformer on this column.\n",
    "\n",
    "Instinct tells me that the year a waterpoint was constructed might be a decent predictor of a waterpoint's functionality. Let's see what the most frequently occuring values for `construction_year` are in the dataset."
   ]
  },
  {
   "cell_type": "code",
   "execution_count": 19,
   "metadata": {
    "ExecuteTime": {
     "end_time": "2022-04-21T14:33:06.182044Z",
     "start_time": "2022-04-21T14:33:06.166389Z"
    },
    "collapsed": true
   },
   "outputs": [
    {
     "data": {
      "text/plain": [
       "0       20709\n",
       "2010     2645\n",
       "2008     2613\n",
       "2009     2533\n",
       "2000     2091\n",
       "2007     1587\n",
       "2006     1471\n",
       "2003     1286\n",
       "2011     1256\n",
       "2004     1123\n",
       "2012     1084\n",
       "2002     1075\n",
       "1978     1037\n",
       "1995     1014\n",
       "2005     1011\n",
       "1999      979\n",
       "1998      966\n",
       "1990      954\n",
       "1985      945\n",
       "1980      811\n",
       "Name: construction_year, dtype: int64"
      ]
     },
     "execution_count": 19,
     "metadata": {},
     "output_type": "execute_result"
    }
   ],
   "source": [
    "df.construction_year.value_counts().head(20)"
   ]
  },
  {
   "cell_type": "code",
   "execution_count": 20,
   "metadata": {
    "ExecuteTime": {
     "end_time": "2022-04-21T14:33:06.198920Z",
     "start_time": "2022-04-21T14:33:06.183256Z"
    }
   },
   "outputs": [
    {
     "data": {
      "text/plain": [
       "1986.0"
      ]
     },
     "execution_count": 20,
     "metadata": {},
     "output_type": "execute_result"
    }
   ],
   "source": [
    "df.construction_year.median()"
   ]
  },
  {
   "cell_type": "code",
   "execution_count": 21,
   "metadata": {
    "ExecuteTime": {
     "end_time": "2022-04-21T14:33:06.216504Z",
     "start_time": "2022-04-21T14:33:06.201750Z"
    }
   },
   "outputs": [
    {
     "data": {
      "text/plain": [
       "(55,)"
      ]
     },
     "execution_count": 21,
     "metadata": {},
     "output_type": "execute_result"
    }
   ],
   "source": [
    "df.construction_year.value_counts().shape"
   ]
  },
  {
   "cell_type": "markdown",
   "metadata": {},
   "source": [
    "Records for 55 years, but the most common value is `0` - so probably more like 54 years, with waterpoints built between 2004 and 2011 making up the top ten most frequently occurring values. Though the pandas `.info()` and `.isna()` methods did not recognize any *null* values in the `construction_year` column, we have plenty of rows where `construction_year` was entered as `0`, which will require some munging/imputing."
   ]
  },
  {
   "cell_type": "code",
   "execution_count": 22,
   "metadata": {
    "ExecuteTime": {
     "end_time": "2022-04-21T14:33:06.232130Z",
     "start_time": "2022-04-21T14:33:06.216504Z"
    }
   },
   "outputs": [
    {
     "name": "stdout",
     "output_type": "stream",
     "text": [
      "Mean population: 56.625357483317444\n",
      "Median population: 3.0\n"
     ]
    }
   ],
   "source": [
    "print(f'Mean population: {np.mean(df.population.value_counts())}')\n",
    "print(f'Median population: {np.median(df.population.value_counts())}')"
   ]
  },
  {
   "cell_type": "code",
   "execution_count": 23,
   "metadata": {
    "ExecuteTime": {
     "end_time": "2022-04-21T14:33:06.249752Z",
     "start_time": "2022-04-21T14:33:06.233571Z"
    },
    "collapsed": true
   },
   "outputs": [
    {
     "data": {
      "text/plain": [
       "0       21381\n",
       "1        7025\n",
       "200      1940\n",
       "150      1892\n",
       "250      1681\n",
       "        ...  \n",
       "3241        1\n",
       "1960        1\n",
       "1685        1\n",
       "2248        1\n",
       "1439        1\n",
       "Name: population, Length: 1049, dtype: int64"
      ]
     },
     "execution_count": 23,
     "metadata": {},
     "output_type": "execute_result"
    }
   ],
   "source": [
    "df.population.value_counts()"
   ]
  },
  {
   "cell_type": "markdown",
   "metadata": {},
   "source": [
    "A lot of zeroes in the `population` column. Let's look into that, if only briefly..."
   ]
  },
  {
   "cell_type": "code",
   "execution_count": 24,
   "metadata": {
    "ExecuteTime": {
     "end_time": "2022-04-21T14:33:06.317159Z",
     "start_time": "2022-04-21T14:33:06.249752Z"
    },
    "collapsed": true
   },
   "outputs": [
    {
     "data": {
      "text/html": [
       "<div>\n",
       "<style scoped>\n",
       "    .dataframe tbody tr th:only-of-type {\n",
       "        vertical-align: middle;\n",
       "    }\n",
       "\n",
       "    .dataframe tbody tr th {\n",
       "        vertical-align: top;\n",
       "    }\n",
       "\n",
       "    .dataframe thead th {\n",
       "        text-align: right;\n",
       "    }\n",
       "</style>\n",
       "<table border=\"1\" class=\"dataframe\">\n",
       "  <thead>\n",
       "    <tr style=\"text-align: right;\">\n",
       "      <th></th>\n",
       "      <th>id</th>\n",
       "      <th>amount_tsh</th>\n",
       "      <th>date_recorded</th>\n",
       "      <th>funder</th>\n",
       "      <th>gps_height</th>\n",
       "      <th>installer</th>\n",
       "      <th>longitude</th>\n",
       "      <th>latitude</th>\n",
       "      <th>wpt_name</th>\n",
       "      <th>num_private</th>\n",
       "      <th>basin</th>\n",
       "      <th>subvillage</th>\n",
       "      <th>region</th>\n",
       "      <th>region_code</th>\n",
       "      <th>district_code</th>\n",
       "      <th>lga</th>\n",
       "      <th>ward</th>\n",
       "      <th>population</th>\n",
       "      <th>public_meeting</th>\n",
       "      <th>recorded_by</th>\n",
       "      <th>scheme_management</th>\n",
       "      <th>scheme_name</th>\n",
       "      <th>permit</th>\n",
       "      <th>construction_year</th>\n",
       "      <th>extraction_type</th>\n",
       "      <th>extraction_type_group</th>\n",
       "      <th>extraction_type_class</th>\n",
       "      <th>management</th>\n",
       "      <th>management_group</th>\n",
       "      <th>payment</th>\n",
       "      <th>payment_type</th>\n",
       "      <th>water_quality</th>\n",
       "      <th>quality_group</th>\n",
       "      <th>quantity</th>\n",
       "      <th>quantity_group</th>\n",
       "      <th>source</th>\n",
       "      <th>source_type</th>\n",
       "      <th>source_class</th>\n",
       "      <th>waterpoint_type</th>\n",
       "      <th>waterpoint_type_group</th>\n",
       "      <th>status_group</th>\n",
       "    </tr>\n",
       "  </thead>\n",
       "  <tbody>\n",
       "    <tr>\n",
       "      <th>45592</th>\n",
       "      <td>13977</td>\n",
       "      <td>0.0</td>\n",
       "      <td>2011-03-26</td>\n",
       "      <td>Water</td>\n",
       "      <td>0</td>\n",
       "      <td>Gover</td>\n",
       "      <td>36.488600</td>\n",
       "      <td>-7.198751</td>\n",
       "      <td>Kisiwani</td>\n",
       "      <td>0</td>\n",
       "      <td>Rufiji</td>\n",
       "      <td>Vikundi</td>\n",
       "      <td>Dodoma</td>\n",
       "      <td>1</td>\n",
       "      <td>1</td>\n",
       "      <td>Mpwapwa</td>\n",
       "      <td>Ipera</td>\n",
       "      <td>0</td>\n",
       "      <td>True</td>\n",
       "      <td>GeoData Consultants Ltd</td>\n",
       "      <td>VWC</td>\n",
       "      <td>NaN</td>\n",
       "      <td>True</td>\n",
       "      <td>0</td>\n",
       "      <td>nira/tanira</td>\n",
       "      <td>nira/tanira</td>\n",
       "      <td>handpump</td>\n",
       "      <td>vwc</td>\n",
       "      <td>user-group</td>\n",
       "      <td>never pay</td>\n",
       "      <td>never pay</td>\n",
       "      <td>soft</td>\n",
       "      <td>good</td>\n",
       "      <td>insufficient</td>\n",
       "      <td>insufficient</td>\n",
       "      <td>shallow well</td>\n",
       "      <td>shallow well</td>\n",
       "      <td>groundwater</td>\n",
       "      <td>hand pump</td>\n",
       "      <td>hand pump</td>\n",
       "      <td>functional</td>\n",
       "    </tr>\n",
       "    <tr>\n",
       "      <th>59371</th>\n",
       "      <td>20387</td>\n",
       "      <td>0.0</td>\n",
       "      <td>2012-10-09</td>\n",
       "      <td>Netherlands</td>\n",
       "      <td>0</td>\n",
       "      <td>DWE</td>\n",
       "      <td>33.586406</td>\n",
       "      <td>-3.040369</td>\n",
       "      <td>Ushirika</td>\n",
       "      <td>0</td>\n",
       "      <td>Lake Victoria</td>\n",
       "      <td>Chambwa</td>\n",
       "      <td>Shinyanga</td>\n",
       "      <td>17</td>\n",
       "      <td>2</td>\n",
       "      <td>Maswa</td>\n",
       "      <td>Kulimi</td>\n",
       "      <td>0</td>\n",
       "      <td>True</td>\n",
       "      <td>GeoData Consultants Ltd</td>\n",
       "      <td>WUG</td>\n",
       "      <td>NaN</td>\n",
       "      <td>False</td>\n",
       "      <td>0</td>\n",
       "      <td>nira/tanira</td>\n",
       "      <td>nira/tanira</td>\n",
       "      <td>handpump</td>\n",
       "      <td>wug</td>\n",
       "      <td>user-group</td>\n",
       "      <td>never pay</td>\n",
       "      <td>never pay</td>\n",
       "      <td>soft</td>\n",
       "      <td>good</td>\n",
       "      <td>enough</td>\n",
       "      <td>enough</td>\n",
       "      <td>shallow well</td>\n",
       "      <td>shallow well</td>\n",
       "      <td>groundwater</td>\n",
       "      <td>hand pump</td>\n",
       "      <td>hand pump</td>\n",
       "      <td>non functional</td>\n",
       "    </tr>\n",
       "    <tr>\n",
       "      <th>29587</th>\n",
       "      <td>21411</td>\n",
       "      <td>8000.0</td>\n",
       "      <td>2013-02-23</td>\n",
       "      <td>Songea District Council</td>\n",
       "      <td>1486</td>\n",
       "      <td>DWE</td>\n",
       "      <td>35.281597</td>\n",
       "      <td>-9.758611</td>\n",
       "      <td>Kwa George</td>\n",
       "      <td>0</td>\n",
       "      <td>Lake Nyasa</td>\n",
       "      <td>Mapinduzi A</td>\n",
       "      <td>Ruvuma</td>\n",
       "      <td>10</td>\n",
       "      <td>2</td>\n",
       "      <td>Songea Rural</td>\n",
       "      <td>Wino</td>\n",
       "      <td>0</td>\n",
       "      <td>True</td>\n",
       "      <td>GeoData Consultants Ltd</td>\n",
       "      <td>VWC</td>\n",
       "      <td>Mradi wa maji wa wino</td>\n",
       "      <td>True</td>\n",
       "      <td>2011</td>\n",
       "      <td>submersible</td>\n",
       "      <td>submersible</td>\n",
       "      <td>submersible</td>\n",
       "      <td>vwc</td>\n",
       "      <td>user-group</td>\n",
       "      <td>pay annually</td>\n",
       "      <td>annually</td>\n",
       "      <td>soft</td>\n",
       "      <td>good</td>\n",
       "      <td>enough</td>\n",
       "      <td>enough</td>\n",
       "      <td>river</td>\n",
       "      <td>river/lake</td>\n",
       "      <td>surface</td>\n",
       "      <td>communal standpipe</td>\n",
       "      <td>communal standpipe</td>\n",
       "      <td>functional</td>\n",
       "    </tr>\n",
       "    <tr>\n",
       "      <th>29704</th>\n",
       "      <td>8958</td>\n",
       "      <td>0.0</td>\n",
       "      <td>2011-04-04</td>\n",
       "      <td>Water</td>\n",
       "      <td>0</td>\n",
       "      <td>Commu</td>\n",
       "      <td>35.987864</td>\n",
       "      <td>-6.218267</td>\n",
       "      <td>Kwa Tangoo</td>\n",
       "      <td>0</td>\n",
       "      <td>Wami / Ruvu</td>\n",
       "      <td>Mnadani</td>\n",
       "      <td>Dodoma</td>\n",
       "      <td>1</td>\n",
       "      <td>5</td>\n",
       "      <td>Dodoma Urban</td>\n",
       "      <td>Kikombo</td>\n",
       "      <td>0</td>\n",
       "      <td>True</td>\n",
       "      <td>GeoData Consultants Ltd</td>\n",
       "      <td>VWC</td>\n",
       "      <td>Kiko</td>\n",
       "      <td>False</td>\n",
       "      <td>0</td>\n",
       "      <td>mono</td>\n",
       "      <td>mono</td>\n",
       "      <td>motorpump</td>\n",
       "      <td>vwc</td>\n",
       "      <td>user-group</td>\n",
       "      <td>pay per bucket</td>\n",
       "      <td>per bucket</td>\n",
       "      <td>soft</td>\n",
       "      <td>good</td>\n",
       "      <td>dry</td>\n",
       "      <td>dry</td>\n",
       "      <td>machine dbh</td>\n",
       "      <td>borehole</td>\n",
       "      <td>groundwater</td>\n",
       "      <td>communal standpipe multiple</td>\n",
       "      <td>communal standpipe</td>\n",
       "      <td>non functional</td>\n",
       "    </tr>\n",
       "    <tr>\n",
       "      <th>53568</th>\n",
       "      <td>65564</td>\n",
       "      <td>0.0</td>\n",
       "      <td>2011-03-23</td>\n",
       "      <td>Danida</td>\n",
       "      <td>1802</td>\n",
       "      <td>DWE</td>\n",
       "      <td>35.329705</td>\n",
       "      <td>-8.370343</td>\n",
       "      <td>none</td>\n",
       "      <td>0</td>\n",
       "      <td>Rufiji</td>\n",
       "      <td>I</td>\n",
       "      <td>Iringa</td>\n",
       "      <td>11</td>\n",
       "      <td>2</td>\n",
       "      <td>Mufindi</td>\n",
       "      <td>Luhunga</td>\n",
       "      <td>0</td>\n",
       "      <td>True</td>\n",
       "      <td>GeoData Consultants Ltd</td>\n",
       "      <td>VWC</td>\n",
       "      <td>NaN</td>\n",
       "      <td>False</td>\n",
       "      <td>0</td>\n",
       "      <td>swn 80</td>\n",
       "      <td>swn 80</td>\n",
       "      <td>handpump</td>\n",
       "      <td>vwc</td>\n",
       "      <td>user-group</td>\n",
       "      <td>never pay</td>\n",
       "      <td>never pay</td>\n",
       "      <td>soft</td>\n",
       "      <td>good</td>\n",
       "      <td>enough</td>\n",
       "      <td>enough</td>\n",
       "      <td>shallow well</td>\n",
       "      <td>shallow well</td>\n",
       "      <td>groundwater</td>\n",
       "      <td>hand pump</td>\n",
       "      <td>hand pump</td>\n",
       "      <td>functional</td>\n",
       "    </tr>\n",
       "  </tbody>\n",
       "</table>\n",
       "</div>"
      ],
      "text/plain": [
       "          id  amount_tsh date_recorded                   funder  gps_height  \\\n",
       "45592  13977         0.0    2011-03-26                    Water           0   \n",
       "59371  20387         0.0    2012-10-09              Netherlands           0   \n",
       "29587  21411      8000.0    2013-02-23  Songea District Council        1486   \n",
       "29704   8958         0.0    2011-04-04                    Water           0   \n",
       "53568  65564         0.0    2011-03-23                   Danida        1802   \n",
       "\n",
       "      installer  longitude  latitude    wpt_name  num_private          basin  \\\n",
       "45592     Gover  36.488600 -7.198751    Kisiwani            0         Rufiji   \n",
       "59371       DWE  33.586406 -3.040369    Ushirika            0  Lake Victoria   \n",
       "29587       DWE  35.281597 -9.758611  Kwa George            0     Lake Nyasa   \n",
       "29704     Commu  35.987864 -6.218267  Kwa Tangoo            0    Wami / Ruvu   \n",
       "53568       DWE  35.329705 -8.370343        none            0         Rufiji   \n",
       "\n",
       "        subvillage     region  region_code  district_code           lga  \\\n",
       "45592      Vikundi     Dodoma            1              1       Mpwapwa   \n",
       "59371      Chambwa  Shinyanga           17              2         Maswa   \n",
       "29587  Mapinduzi A     Ruvuma           10              2  Songea Rural   \n",
       "29704      Mnadani     Dodoma            1              5  Dodoma Urban   \n",
       "53568            I     Iringa           11              2       Mufindi   \n",
       "\n",
       "          ward  population public_meeting              recorded_by  \\\n",
       "45592    Ipera           0           True  GeoData Consultants Ltd   \n",
       "59371   Kulimi           0           True  GeoData Consultants Ltd   \n",
       "29587     Wino           0           True  GeoData Consultants Ltd   \n",
       "29704  Kikombo           0           True  GeoData Consultants Ltd   \n",
       "53568  Luhunga           0           True  GeoData Consultants Ltd   \n",
       "\n",
       "      scheme_management            scheme_name permit  construction_year  \\\n",
       "45592               VWC                    NaN   True                  0   \n",
       "59371               WUG                    NaN  False                  0   \n",
       "29587               VWC  Mradi wa maji wa wino   True               2011   \n",
       "29704               VWC                   Kiko  False                  0   \n",
       "53568               VWC                    NaN  False                  0   \n",
       "\n",
       "      extraction_type extraction_type_group extraction_type_class management  \\\n",
       "45592     nira/tanira           nira/tanira              handpump        vwc   \n",
       "59371     nira/tanira           nira/tanira              handpump        wug   \n",
       "29587     submersible           submersible           submersible        vwc   \n",
       "29704            mono                  mono             motorpump        vwc   \n",
       "53568          swn 80                swn 80              handpump        vwc   \n",
       "\n",
       "      management_group         payment payment_type water_quality  \\\n",
       "45592       user-group       never pay    never pay          soft   \n",
       "59371       user-group       never pay    never pay          soft   \n",
       "29587       user-group    pay annually     annually          soft   \n",
       "29704       user-group  pay per bucket   per bucket          soft   \n",
       "53568       user-group       never pay    never pay          soft   \n",
       "\n",
       "      quality_group      quantity quantity_group        source   source_type  \\\n",
       "45592          good  insufficient   insufficient  shallow well  shallow well   \n",
       "59371          good        enough         enough  shallow well  shallow well   \n",
       "29587          good        enough         enough         river    river/lake   \n",
       "29704          good           dry            dry   machine dbh      borehole   \n",
       "53568          good        enough         enough  shallow well  shallow well   \n",
       "\n",
       "      source_class              waterpoint_type waterpoint_type_group  \\\n",
       "45592  groundwater                    hand pump             hand pump   \n",
       "59371  groundwater                    hand pump             hand pump   \n",
       "29587      surface           communal standpipe    communal standpipe   \n",
       "29704  groundwater  communal standpipe multiple    communal standpipe   \n",
       "53568  groundwater                    hand pump             hand pump   \n",
       "\n",
       "         status_group  \n",
       "45592      functional  \n",
       "59371  non functional  \n",
       "29587      functional  \n",
       "29704  non functional  \n",
       "53568      functional  "
      ]
     },
     "execution_count": 24,
     "metadata": {},
     "output_type": "execute_result"
    }
   ],
   "source": [
    "df.loc[df.population == 0].sample(n = 5,\n",
    "                                  random_state = 138)"
   ]
  },
  {
   "cell_type": "markdown",
   "metadata": {},
   "source": [
    "Hm - looks like instances where *one* zero was inputted, e.g. in the columns `construction_year` or `population`, other data is missing, too. Columns that may have inappropriately represented zero values (not initially identified as nulls due to the way `.info()` recognizes null values) - include...\n",
    "\n",
    "- `amount_tsh`\n",
    "- `gps_height`\n",
    "- `num_private`\n",
    "- `population`\n",
    "- `scheme_name`\n",
    "- `construction_year`\n",
    "\n",
    "Before we dig into dealing with those zeroes with imputation, let's revisit and further examine the other columns that have `NaN` values."
   ]
  },
  {
   "cell_type": "code",
   "execution_count": 25,
   "metadata": {
    "ExecuteTime": {
     "end_time": "2022-04-21T14:33:06.333075Z",
     "start_time": "2022-04-21T14:33:06.318115Z"
    }
   },
   "outputs": [
    {
     "data": {
      "text/plain": [
       "['funder',\n",
       " 'installer',\n",
       " 'subvillage',\n",
       " 'public_meeting',\n",
       " 'scheme_management',\n",
       " 'scheme_name',\n",
       " 'permit']"
      ]
     },
     "execution_count": 25,
     "metadata": {},
     "output_type": "execute_result"
    }
   ],
   "source": [
    "has_nulls"
   ]
  },
  {
   "cell_type": "markdown",
   "metadata": {},
   "source": [
    "`funder` and `installer` seem, at a glance, to be potentially related categories. Let's look at them in tandem."
   ]
  },
  {
   "cell_type": "code",
   "execution_count": 26,
   "metadata": {
    "ExecuteTime": {
     "end_time": "2022-04-21T14:33:06.380979Z",
     "start_time": "2022-04-21T14:33:06.339061Z"
    },
    "collapsed": true
   },
   "outputs": [
    {
     "name": "stdout",
     "output_type": "stream",
     "text": [
      "DWE            17402\n",
      "Government      1825\n",
      "RWE             1206\n",
      "Commu           1060\n",
      "DANIDA          1050\n",
      "               ...  \n",
      "WINAMU CO          1\n",
      "J LH CO LTD        1\n",
      "IS                 1\n",
      "RC Njoro           1\n",
      "CG/RC              1\n",
      "Name: installer, Length: 2145, dtype: int64\n",
      "\n",
      "\n",
      "Government Of Tanzania        9084\n",
      "Danida                        3114\n",
      "Hesawa                        2202\n",
      "Rwssp                         1374\n",
      "World Bank                    1349\n",
      "                              ... \n",
      "Shule Ya Msingi                  1\n",
      "Upper Ruvu                       1\n",
      "Piscope                          1\n",
      "Mhuzu                            1\n",
      "Wamissionari Wa Kikatoriki       1\n",
      "Name: funder, Length: 1897, dtype: int64\n"
     ]
    }
   ],
   "source": [
    "print(df.installer.value_counts())\n",
    "print('\\n')\n",
    "print(df.funder.value_counts())"
   ]
  },
  {
   "cell_type": "markdown",
   "metadata": {},
   "source": [
    "Both `installer` and `funder` have several thousand rows with null values, in addition to the large number of unique values in each column (2145 and 1897, respectively)."
   ]
  },
  {
   "cell_type": "code",
   "execution_count": 27,
   "metadata": {
    "ExecuteTime": {
     "end_time": "2022-04-21T14:33:06.412893Z",
     "start_time": "2022-04-21T14:33:06.382943Z"
    },
    "scrolled": true
   },
   "outputs": [
    {
     "data": {
      "text/plain": [
       "True     51011\n",
       "False     5055\n",
       "Name: public_meeting, dtype: int64"
      ]
     },
     "execution_count": 27,
     "metadata": {},
     "output_type": "execute_result"
    }
   ],
   "source": [
    "df.public_meeting.value_counts()"
   ]
  },
  {
   "cell_type": "code",
   "execution_count": 28,
   "metadata": {
    "ExecuteTime": {
     "end_time": "2022-04-21T14:33:06.444811Z",
     "start_time": "2022-04-21T14:33:06.414858Z"
    },
    "scrolled": false
   },
   "outputs": [
    {
     "data": {
      "text/plain": [
       "True     38852\n",
       "False    17492\n",
       "Name: permit, dtype: int64"
      ]
     },
     "execution_count": 28,
     "metadata": {},
     "output_type": "execute_result"
    }
   ],
   "source": [
    "df.permit.value_counts()"
   ]
  },
  {
   "cell_type": "markdown",
   "metadata": {},
   "source": [
    "We have *several* other columns that contain location information - what does `subvillage` have to offer, if anything, that's unique or useful?"
   ]
  },
  {
   "cell_type": "code",
   "execution_count": 29,
   "metadata": {
    "ExecuteTime": {
     "end_time": "2022-04-21T14:33:06.476691Z",
     "start_time": "2022-04-21T14:33:06.446781Z"
    },
    "collapsed": true
   },
   "outputs": [
    {
     "data": {
      "text/plain": [
       "Madukani    508\n",
       "Shuleni     506\n",
       "Majengo     502\n",
       "Kati        373\n",
       "Mtakuja     262\n",
       "           ... \n",
       "Mlimwa        1\n",
       "Mlega         1\n",
       "Kulukulu      1\n",
       "Dongodo       1\n",
       "Intake        1\n",
       "Name: subvillage, Length: 19287, dtype: int64"
      ]
     },
     "execution_count": 29,
     "metadata": {},
     "output_type": "execute_result"
    }
   ],
   "source": [
    "df.subvillage.value_counts()"
   ]
  },
  {
   "cell_type": "markdown",
   "metadata": {},
   "source": [
    "**19,287** unique values in the `subvillage` column - that'll present a problem when one-hot encoding, and the information stored in this column is unlikely to be helpful in our modeling."
   ]
  },
  {
   "cell_type": "markdown",
   "metadata": {},
   "source": [
    "`date_recorded` and `recorded_by` seem to be for more archival purposes than observation-based data... let's see what's stored in those columns."
   ]
  },
  {
   "cell_type": "code",
   "execution_count": 30,
   "metadata": {
    "ExecuteTime": {
     "end_time": "2022-04-21T14:33:06.508053Z",
     "start_time": "2022-04-21T14:33:06.477689Z"
    },
    "collapsed": true
   },
   "outputs": [
    {
     "name": "stdout",
     "output_type": "stream",
     "text": [
      "2011-03-15    572\n",
      "2011-03-17    558\n",
      "2013-02-03    546\n",
      "2011-03-14    520\n",
      "2011-03-16    513\n",
      "2011-03-18    497\n",
      "2011-03-19    466\n",
      "2013-02-04    464\n",
      "2013-01-29    459\n",
      "2011-03-04    458\n",
      "2013-02-14    444\n",
      "2013-01-24    435\n",
      "2011-03-05    434\n",
      "2013-02-15    429\n",
      "2013-03-15    428\n",
      "2011-03-11    426\n",
      "2013-01-30    421\n",
      "2013-02-16    418\n",
      "2011-03-23    417\n",
      "2011-03-09    416\n",
      "Name: date_recorded, dtype: int64\n",
      "\n",
      "\n",
      "GeoData Consultants Ltd    59400\n",
      "Name: recorded_by, dtype: int64\n"
     ]
    }
   ],
   "source": [
    "print(df['date_recorded'].value_counts().head(20))\n",
    "print('\\n')\n",
    "print(df['recorded_by'].value_counts())"
   ]
  },
  {
   "cell_type": "markdown",
   "metadata": {},
   "source": [
    "The data looks to have been gathered largely across the first calendar months of 2011 and 2013, and the data was recorded entirely by one entity - GeoData Consultants Ltd., which appears in all 59,400 rows. Neither column looks particularly useful for modeling purposes."
   ]
  },
  {
   "cell_type": "markdown",
   "metadata": {},
   "source": [
    "Let's investigate these two `scheme_` columns next, along with some other columns that have similar names to each other."
   ]
  },
  {
   "cell_type": "code",
   "execution_count": null,
   "metadata": {
    "ExecuteTime": {
     "end_time": "2022-04-21T14:32:54.319331Z",
     "start_time": "2022-04-21T14:32:54.297Z"
    }
   },
   "outputs": [],
   "source": [
    "# nearly 3,000 unique `scheme_name` values and a load of nulls -\n",
    "# unlikely this will make into to the modeling stage\n",
    "\n",
    "print(df['scheme_management'].value_counts())\n",
    "print('\\n')\n",
    "print(df['scheme_name'].value_counts())"
   ]
  },
  {
   "cell_type": "code",
   "execution_count": null,
   "metadata": {
    "ExecuteTime": {
     "end_time": "2022-04-21T14:32:54.320328Z",
     "start_time": "2022-04-21T14:32:54.300Z"
    }
   },
   "outputs": [],
   "source": [
    "# Minor differences between these two - not sure about the predictive\n",
    "# usefulness of any of this information\n",
    "\n",
    "print(df['management'].value_counts())\n",
    "print('\\n')\n",
    "print(df['management_group'].value_counts())"
   ]
  },
  {
   "cell_type": "code",
   "execution_count": 52,
   "metadata": {
    "ExecuteTime": {
     "end_time": "2022-04-21T16:43:01.181205Z",
     "start_time": "2022-04-21T16:43:01.157178Z"
    },
    "collapsed": true
   },
   "outputs": [
    {
     "name": "stdout",
     "output_type": "stream",
     "text": [
      "soft                  50818\n",
      "salty                  4856\n",
      "unknown                1876\n",
      "milky                   804\n",
      "coloured                490\n",
      "salty abandoned         339\n",
      "fluoride                200\n",
      "fluoride abandoned       17\n",
      "Name: water_quality, dtype: int64\n",
      "\n",
      "\n",
      "good        50818\n",
      "salty        5195\n",
      "unknown      1876\n",
      "milky         804\n",
      "colored       490\n",
      "fluoride      217\n",
      "Name: quality_group, dtype: int64\n"
     ]
    }
   ],
   "source": [
    "# Using `quality_group` due to similarity of values\n",
    "print(df['water_quality'].value_counts())\n",
    "print('\\n')\n",
    "print(df['quality_group'].value_counts())"
   ]
  },
  {
   "cell_type": "code",
   "execution_count": 53,
   "metadata": {
    "ExecuteTime": {
     "end_time": "2022-04-21T16:43:01.181205Z",
     "start_time": "2022-04-21T16:43:01.157178Z"
    },
    "collapsed": true
   },
   "outputs": [
    {
     "name": "stdout",
     "output_type": "stream",
     "text": [
      "enough          33186\n",
      "insufficient    15129\n",
      "dry              6246\n",
      "seasonal         4050\n",
      "unknown           789\n",
      "Name: quantity, dtype: int64\n",
      "\n",
      "\n",
      "enough          33186\n",
      "insufficient    15129\n",
      "dry              6246\n",
      "seasonal         4050\n",
      "unknown           789\n",
      "Name: quantity_group, dtype: int64\n"
     ]
    }
   ],
   "source": [
    "# Using `quantity` due to similarity of values\n",
    "print(df['quantity'].value_counts())\n",
    "print('\\n')\n",
    "print(df['quantity_group'].value_counts())"
   ]
  },
  {
   "cell_type": "code",
   "execution_count": 54,
   "metadata": {
    "ExecuteTime": {
     "end_time": "2022-04-21T16:43:01.181205Z",
     "start_time": "2022-04-21T16:43:01.157178Z"
    },
    "collapsed": true
   },
   "outputs": [
    {
     "name": "stdout",
     "output_type": "stream",
     "text": [
      "gravity                      26780\n",
      "nira/tanira                   8154\n",
      "other                         6430\n",
      "submersible                   4764\n",
      "swn 80                        3670\n",
      "mono                          2865\n",
      "india mark ii                 2400\n",
      "afridev                       1770\n",
      "ksb                           1415\n",
      "other - rope pump              451\n",
      "other - swn 81                 229\n",
      "windmill                       117\n",
      "india mark iii                  98\n",
      "cemo                            90\n",
      "other - play pump               85\n",
      "walimi                          48\n",
      "climax                          32\n",
      "other - mkulima/shinyanga        2\n",
      "Name: extraction_type, dtype: int64\n",
      "\n",
      "\n",
      "gravity            26780\n",
      "nira/tanira         8154\n",
      "other               6430\n",
      "submersible         6179\n",
      "swn 80              3670\n",
      "mono                2865\n",
      "india mark ii       2400\n",
      "afridev             1770\n",
      "rope pump            451\n",
      "other handpump       364\n",
      "other motorpump      122\n",
      "wind-powered         117\n",
      "india mark iii        98\n",
      "Name: extraction_type_group, dtype: int64\n",
      "\n",
      "\n",
      "gravity         26780\n",
      "handpump        16456\n",
      "other            6430\n",
      "submersible      6179\n",
      "motorpump        2987\n",
      "rope pump         451\n",
      "wind-powered      117\n",
      "Name: extraction_type_class, dtype: int64\n"
     ]
    }
   ],
   "source": [
    "print(df['extraction_type'].value_counts())\n",
    "print('\\n')\n",
    "print(df['extraction_type_group'].value_counts())\n",
    "print('\\n')\n",
    "print(df['extraction_type_class'].value_counts())"
   ]
  },
  {
   "cell_type": "markdown",
   "metadata": {},
   "source": [
    "`extraction_type_class` appears to compress the information from the other two `extraction_type` columns. We'll keep and one-hot encode `extraction_type_class` and drop the other two columns."
   ]
  },
  {
   "cell_type": "code",
   "execution_count": 55,
   "metadata": {
    "ExecuteTime": {
     "end_time": "2022-04-21T16:43:01.181205Z",
     "start_time": "2022-04-21T16:43:01.157178Z"
    },
    "collapsed": true
   },
   "outputs": [
    {
     "name": "stdout",
     "output_type": "stream",
     "text": [
      "communal standpipe             28522\n",
      "hand pump                      17488\n",
      "other                           6380\n",
      "communal standpipe multiple     6103\n",
      "improved spring                  784\n",
      "cattle trough                    116\n",
      "dam                                7\n",
      "Name: waterpoint_type, dtype: int64\n",
      "\n",
      "\n",
      "communal standpipe    34625\n",
      "hand pump             17488\n",
      "other                  6380\n",
      "improved spring         784\n",
      "cattle trough           116\n",
      "dam                       7\n",
      "Name: waterpoint_type_group, dtype: int64\n"
     ]
    }
   ],
   "source": [
    "print(df['waterpoint_type'].value_counts())\n",
    "print('\\n')\n",
    "print(df['waterpoint_type_group'].value_counts())"
   ]
  },
  {
   "cell_type": "markdown",
   "metadata": {},
   "source": [
    "Again, we need only keep one of these columns."
   ]
  },
  {
   "cell_type": "markdown",
   "metadata": {},
   "source": [
    "# Dropping Irrelevant/Redundant Features"
   ]
  },
  {
   "cell_type": "code",
   "execution_count": null,
   "metadata": {
    "ExecuteTime": {
     "end_time": "2022-04-21T14:32:54.321325Z",
     "start_time": "2022-04-21T14:32:54.304Z"
    }
   },
   "outputs": [],
   "source": [
    "# Dropping columns determined to be either irrelevant or\n",
    "# superfluous in exploratory analysis\n",
    "\n",
    "cols_to_drop = [\n",
    "    'id',  # unique identifier, not useful for modeling\n",
    "    'date_recorded',  # superfluous information, too many unique records\n",
    "    'recorded_by',  # no unique information + no unique values across 59.4k rows\n",
    "    'funder',   \n",
    "    'installer',  # large number of unique values (see also `funder`);\n",
    "                  # may be added back in later\n",
    "    'wpt_name',  # identifier column, not useful for modeling\n",
    "    'num_private',  # data dict. does not provide details for this column\n",
    "    'subvillage',  # too many unique values - uninformative for modeling\n",
    "    'region_code',  # redundant information vis-a-visa the simpler `region`\n",
    "    'district_code',  # may be added back in later\n",
    "    'lga',\n",
    "    'ward',  # redundant location data (with `lga`)\n",
    "    'scheme_management',  # may be added back in later\n",
    "    'scheme_name',  # large number of nulls, redundant vis-a-vis `scheme_management`\n",
    "    'extraction_type',\n",
    "    'extraction_type_group',  # using `extraction_type_class` for generalized info\n",
    "    'management',\n",
    "    'management_group',  # may be added back in later\n",
    "    'payment',  # identical information to `payment_type`\n",
    "    'water_quality',  # comparable information to `quality_group` - redundant\n",
    "    'quantity_group',  # identical information to `quantity` - redundant\n",
    "    'source',  # redundant with other `source_` columns\n",
    "    'waterpoint_type'  # used `waterpoint_type_group` instead\n",
    "]"
   ]
  },
  {
   "cell_type": "code",
   "execution_count": null,
   "metadata": {
    "ExecuteTime": {
     "end_time": "2022-04-21T14:32:54.322322Z",
     "start_time": "2022-04-21T14:32:54.307Z"
    }
   },
   "outputs": [],
   "source": [
    "df = df.drop(columns = cols_to_drop).copy()"
   ]
  },
  {
   "cell_type": "markdown",
   "metadata": {},
   "source": [
    "Necessary modifications for modeling, to be written into pipelines:\n",
    "\n",
    "- One-hot encoding:\n",
    "    - `basin`\n",
    "    - `extraction_type_class`\n",
    "    - `payment_type`\n",
    "    - `permit`\n",
    "    - `public_meeting`\n",
    "    - `quality_group`\n",
    "    - `quantity`\n",
    "    - `region`\n",
    "    - `source_type`\n",
    "    - `source_class`\n",
    "    - `waterpoint_type_group`\n",
    "- Numerical scaling:\n",
    "    - `population` - (impute zeroes with median?)\n",
    "    - `gps_height` - impute zeroes with median\n",
    "    - `latitude` / `longitude` - impute zeroes with mean\n",
    "    - `construction_year` - use KNN imputing\n",
    "    \n",
    "Our target variable, `status_group`, will also be **label encoded** for readability and consistency:\n",
    "- `0` = 'functional'\n",
    "- `1` = 'non functional'\n",
    "- `2` = 'functional needs repair'"
   ]
  },
  {
   "cell_type": "markdown",
   "metadata": {},
   "source": [
    "#### Subpipe Creation"
   ]
  },
  {
   "cell_type": "code",
   "execution_count": null,
   "metadata": {
    "ExecuteTime": {
     "end_time": "2022-04-21T14:32:54.323319Z",
     "start_time": "2022-04-21T14:32:54.312Z"
    }
   },
   "outputs": [],
   "source": [
    "# Subpipes for imputing median values - to be used for `latitude` and `longitude`\n",
    "subpipe_lat      = Pipeline(steps=[('num_impute', SimpleImputer(missing_values = -2.000000e-08,\n",
    "                                                                strategy = 'median')),\n",
    "                                   ('ss', StandardScaler())])\n",
    "\n",
    "subpipe_long     = Pipeline(steps=[('num_impute', SimpleImputer(missing_values = 0.000000,\n",
    "                                                                strategy = 'median')),\n",
    "                                   ('ss', StandardScaler())])\n",
    "\n",
    "\n",
    "# Subpipe for imputing median values\n",
    "subpipe_num      = Pipeline(steps=[('num_impute', SimpleImputer(strategy = 'median')),\n",
    "                                   ('ss', StandardScaler())])\n",
    "\n",
    "# Subpipe for `construction_year`\n",
    "subpipe_year     = Pipeline(steps=[('num_impute', SimpleImputer(missing_values = 0,\n",
    "                                                                strategy = 'median')),\n",
    "                                   ('ss', StandardScaler())])\n",
    "\n",
    "# Subpipe for categorical features including `basin`, `payment_type`\n",
    "subpipe_cat      = Pipeline(steps=[('freq_imputer_nan', SimpleImputer(strategy = 'most_frequent')),\n",
    "                                   ('freq_imputer_unk', SimpleImputer(strategy = 'most_frequent',\n",
    "                                                                      missing_values = 'unknown')),\n",
    "                                   ('ohe', OneHotEncoder(drop = 'if_binary',\n",
    "                                                         sparse = False,\n",
    "                                                         handle_unknown = 'ignore'))])\n",
    "\n",
    "\n",
    "# Subpipe for the target column, `status_group`\n",
    "subpipe_label    = Pipeline(steps=[('le', LabelEncoder())])"
   ]
  },
  {
   "cell_type": "markdown",
   "metadata": {},
   "source": [
    "#### `ColumnTransformer`"
   ]
  },
  {
   "cell_type": "code",
   "execution_count": 56,
   "metadata": {
    "ExecuteTime": {
     "end_time": "2022-04-21T16:44:11.788911Z",
     "start_time": "2022-04-21T16:44:11.780902Z"
    }
   },
   "outputs": [],
   "source": [
    "# Columns to be passed through numerical pipeline\n",
    "num_cols = ['amount_tsh',\n",
    "            'gps_height',\n",
    "            'population']\n",
    "\n",
    "# Columns to be passed through categorical pipeline\n",
    "cat_cols = ['basin',\n",
    "            'region',\n",
    "            'payment_type',\n",
    "            'quantity',\n",
    "            'quality_group',\n",
    "            'permit',\n",
    "            'public_meeting',\n",
    "            'extraction_type_class',\n",
    "            'source_type',\n",
    "            'source_class',\n",
    "            'waterpoint_type_group']"
   ]
  },
  {
   "cell_type": "code",
   "execution_count": 3,
   "metadata": {
    "ExecuteTime": {
     "end_time": "2022-04-21T14:32:54.437494Z",
     "start_time": "2022-04-21T14:32:54.421640Z"
    }
   },
   "outputs": [
    {
     "ename": "NameError",
     "evalue": "name 'ColumnTransformer' is not defined",
     "output_type": "error",
     "traceback": [
      "\u001b[1;31m---------------------------------------------------------------------------\u001b[0m",
      "\u001b[1;31mNameError\u001b[0m                                 Traceback (most recent call last)",
      "\u001b[1;32m<ipython-input-3-e59b6ead5673>\u001b[0m in \u001b[0;36m<module>\u001b[1;34m\u001b[0m\n\u001b[1;32m----> 1\u001b[1;33m ct = ColumnTransformer(transformers = [\n\u001b[0m\u001b[0;32m      2\u001b[0m     \u001b[1;33m(\u001b[0m\u001b[1;34m'subpipe_num'\u001b[0m\u001b[1;33m,\u001b[0m \u001b[0msubpipe_num\u001b[0m\u001b[1;33m,\u001b[0m \u001b[0mnum_cols\u001b[0m\u001b[1;33m)\u001b[0m\u001b[1;33m,\u001b[0m\u001b[1;33m\u001b[0m\u001b[1;33m\u001b[0m\u001b[0m\n\u001b[0;32m      3\u001b[0m     \u001b[1;33m(\u001b[0m\u001b[1;34m'subpipe_year'\u001b[0m\u001b[1;33m,\u001b[0m \u001b[0msubpipe_year\u001b[0m\u001b[1;33m,\u001b[0m \u001b[1;33m[\u001b[0m\u001b[1;34m'construction_year'\u001b[0m\u001b[1;33m]\u001b[0m\u001b[1;33m)\u001b[0m\u001b[1;33m,\u001b[0m\u001b[1;33m\u001b[0m\u001b[1;33m\u001b[0m\u001b[0m\n\u001b[0;32m      4\u001b[0m     \u001b[1;33m(\u001b[0m\u001b[1;34m'subpipe_long'\u001b[0m\u001b[1;33m,\u001b[0m \u001b[0msubpipe_long\u001b[0m\u001b[1;33m,\u001b[0m \u001b[1;33m[\u001b[0m\u001b[1;34m'longitude'\u001b[0m\u001b[1;33m]\u001b[0m\u001b[1;33m)\u001b[0m\u001b[1;33m,\u001b[0m\u001b[1;33m\u001b[0m\u001b[1;33m\u001b[0m\u001b[0m\n\u001b[0;32m      5\u001b[0m     \u001b[1;33m(\u001b[0m\u001b[1;34m'subpipe_lat'\u001b[0m\u001b[1;33m,\u001b[0m \u001b[0msubpipe_lat\u001b[0m\u001b[1;33m,\u001b[0m \u001b[1;33m[\u001b[0m\u001b[1;34m'latitude'\u001b[0m\u001b[1;33m]\u001b[0m\u001b[1;33m)\u001b[0m\u001b[1;33m,\u001b[0m\u001b[1;33m\u001b[0m\u001b[1;33m\u001b[0m\u001b[0m\n",
      "\u001b[1;31mNameError\u001b[0m: name 'ColumnTransformer' is not defined"
     ]
    }
   ],
   "source": [
    "ct = ColumnTransformer(transformers = [\n",
    "    ('subpipe_num', subpipe_num, num_cols),\n",
    "    ('subpipe_year', subpipe_year, ['construction_year']),\n",
    "    ('subpipe_long', subpipe_long, ['longitude']),\n",
    "    ('subpipe_lat', subpipe_lat, ['latitude']),\n",
    "    ('subpipe_cat', subpipe_cat, cat_cols)],\n",
    "                       remainder = 'passthrough')\n",
    "\n",
    "# ('subpipe_label', subpipe_label, ['status_group'])"
   ]
  },
  {
   "cell_type": "markdown",
   "metadata": {},
   "source": [
    "### Train/Test Split and Initial Preparation for ML"
   ]
  },
  {
   "cell_type": "code",
   "execution_count": null,
   "metadata": {
    "ExecuteTime": {
     "end_time": "2022-04-21T14:32:54.438422Z",
     "start_time": "2022-04-21T14:32:54.320Z"
    }
   },
   "outputs": [],
   "source": [
    "# Splitting DataFrame into features/values DataFrame\n",
    "# (i.e. `X`) and labels series (`y`)\n",
    "\n",
    "X = df.drop('status_group', axis = 1)\n",
    "y = df['status_group']"
   ]
  },
  {
   "cell_type": "code",
   "execution_count": null,
   "metadata": {
    "ExecuteTime": {
     "end_time": "2022-04-21T14:32:54.438422Z",
     "start_time": "2022-04-21T14:32:54.325Z"
    }
   },
   "outputs": [],
   "source": [
    "# Splitting internal training data into separate\n",
    "# training and test sets for (eventual) internal validation\n",
    "\n",
    "X_train, X_test, y_train, y_test = train_test_split(X, y, test_size = 0.33, random_state = 138)"
   ]
  },
  {
   "cell_type": "markdown",
   "metadata": {},
   "source": [
    "## Modeling"
   ]
  },
  {
   "cell_type": "markdown",
   "metadata": {},
   "source": [
    "### `DummyClassifier`"
   ]
  },
  {
   "cell_type": "code",
   "execution_count": null,
   "metadata": {
    "ExecuteTime": {
     "end_time": "2022-04-21T14:32:54.443799Z",
     "start_time": "2022-04-21T14:32:54.330Z"
    }
   },
   "outputs": [],
   "source": [
    "dummy_model_pipe = Pipeline(steps=[\n",
    "    ('ct', ct),\n",
    "    ('dummy', DummyClassifier())\n",
    "])"
   ]
  },
  {
   "cell_type": "code",
   "execution_count": null,
   "metadata": {
    "ExecuteTime": {
     "end_time": "2022-04-21T14:32:54.444600Z",
     "start_time": "2022-04-21T14:32:54.333Z"
    },
    "scrolled": true
   },
   "outputs": [],
   "source": [
    "# Fit on training data\n",
    "dummy_model_pipe.fit(X_train, y_train)\n",
    "\n",
    "# Score on training data\n",
    "dummy_model_pipe.score(X_train, y_train)"
   ]
  },
  {
   "cell_type": "markdown",
   "metadata": {},
   "source": [
    "scikit-learn's `DummyClassifier` predicts on the training data with an accuracy score of ~0.542, equal to the proportion of the **most frequent class** (`functional`). This is because, as a dummy model, it predicts `functional` (the most frequent value) every time.\n",
    "\n",
    "We'll be looking to improve on that 54.2% accuracy in future models."
   ]
  },
  {
   "cell_type": "markdown",
   "metadata": {},
   "source": [
    "### Simple Model 1 - Logistic Regression, default hyperparameters"
   ]
  },
  {
   "cell_type": "code",
   "execution_count": null,
   "metadata": {
    "ExecuteTime": {
     "end_time": "2022-04-21T14:32:54.445981Z",
     "start_time": "2022-04-21T14:32:54.338Z"
    }
   },
   "outputs": [],
   "source": [
    "# Default arguments - max iterations set to 100\n",
    "logreg_model_simple = Pipeline(steps=[\n",
    "    ('ct', ct),\n",
    "    ('logreg', LogisticRegression(random_state = 138))\n",
    "])"
   ]
  },
  {
   "cell_type": "code",
   "execution_count": null,
   "metadata": {
    "ExecuteTime": {
     "end_time": "2022-04-21T14:32:54.446737Z",
     "start_time": "2022-04-21T14:32:54.342Z"
    },
    "scrolled": false
   },
   "outputs": [],
   "source": [
    "logreg_model_simple.fit(X_train, y_train)\n",
    "\n",
    "logreg_model_simple.score(X_train, y_train)"
   ]
  },
  {
   "cell_type": "markdown",
   "metadata": {},
   "source": [
    "> First simple model is giving us an accuracy rate of **~72.71%** - and a `ConvergenceWarning`."
   ]
  },
  {
   "cell_type": "markdown",
   "metadata": {},
   "source": [
    "#### Simple Model 1.1 - increasing `max_iter`"
   ]
  },
  {
   "cell_type": "code",
   "execution_count": null,
   "metadata": {
    "ExecuteTime": {
     "end_time": "2022-04-21T14:32:54.446737Z",
     "start_time": "2022-04-21T14:32:54.345Z"
    }
   },
   "outputs": [],
   "source": [
    "# Increasing `max_iter` to 1000\n",
    "logreg_model_more_iter = Pipeline(steps=[\n",
    "    ('ct', ct),\n",
    "    ('logreg', LogisticRegression(random_state = 138,\n",
    "                                  max_iter = 1000))\n",
    "])"
   ]
  },
  {
   "cell_type": "code",
   "execution_count": null,
   "metadata": {
    "ExecuteTime": {
     "end_time": "2022-04-21T14:32:54.446737Z",
     "start_time": "2022-04-21T14:32:54.348Z"
    },
    "scrolled": true
   },
   "outputs": [],
   "source": [
    "logreg_model_more_iter.fit(X_train, y_train)\n",
    "\n",
    "logreg_model_more_iter.score(X_train, y_train)"
   ]
  },
  {
   "cell_type": "markdown",
   "metadata": {},
   "source": [
    "> Increasing `max_iter` from 100 to 1,000 solved the `ConvergenceWarning`; it also resulted in a *slightly* higher accuracy score: **~72.72%**"
   ]
  },
  {
   "cell_type": "markdown",
   "metadata": {},
   "source": [
    "### Simple Model 2 - new solver (`saga`)"
   ]
  },
  {
   "cell_type": "code",
   "execution_count": null,
   "metadata": {
    "ExecuteTime": {
     "end_time": "2022-04-21T14:32:54.446737Z",
     "start_time": "2022-04-21T14:32:54.353Z"
    }
   },
   "outputs": [],
   "source": [
    "# Adjusting solver - changed from 'lbfgs' to 'saga'\n",
    "# also dropping `max_iter` back down to default\n",
    "logreg_model_saga = Pipeline(steps=[\n",
    "    ('ct', ct),\n",
    "    ('logreg', LogisticRegression(random_state = 138,\n",
    "                                  solver = 'saga'))\n",
    "])"
   ]
  },
  {
   "cell_type": "code",
   "execution_count": null,
   "metadata": {
    "ExecuteTime": {
     "end_time": "2022-04-21T14:32:54.446737Z",
     "start_time": "2022-04-21T14:32:54.355Z"
    }
   },
   "outputs": [],
   "source": [
    "logreg_model_saga.fit(X_train, y_train)\n",
    "\n",
    "logreg_model_saga.score(X_train, y_train)"
   ]
  },
  {
   "cell_type": "markdown",
   "metadata": {},
   "source": [
    "> Ever-so-slightly worse accuracy score (**~72.70%**) when the solver was changed from `lbfgs` to `saga`. But *still* getting that `ConvergenceWarning`."
   ]
  },
  {
   "cell_type": "markdown",
   "metadata": {},
   "source": [
    "### Simple Model 3 - `elasticnet` penalty"
   ]
  },
  {
   "cell_type": "code",
   "execution_count": null,
   "metadata": {
    "ExecuteTime": {
     "end_time": "2022-04-21T14:32:54.454843Z",
     "start_time": "2022-04-21T14:32:54.358Z"
    }
   },
   "outputs": [],
   "source": [
    "# Changed penalty to 'elasticnet', set 'l1_ratio' to 0.6\n",
    "# Reduced max_iter to 10 -  not much sacrifice in accuracy,\n",
    "# better processing time w/ ensemble methods\n",
    "logreg_model_saga_elasnet = Pipeline(steps=[\n",
    "    ('ct', ct),\n",
    "    ('logreg', LogisticRegression(penalty = 'elasticnet',\n",
    "                                  l1_ratio = 0.6,\n",
    "                                  solver = 'saga',\n",
    "                                  random_state = 138,\n",
    "                                  max_iter = 10))\n",
    "])"
   ]
  },
  {
   "cell_type": "code",
   "execution_count": null,
   "metadata": {
    "ExecuteTime": {
     "end_time": "2022-04-21T14:32:54.454843Z",
     "start_time": "2022-04-21T14:32:54.360Z"
    }
   },
   "outputs": [],
   "source": [
    "logreg_model_saga_elasnet.fit(X_train, y_train)\n",
    "\n",
    "logreg_model_saga_elasnet.score(X_train, y_train)"
   ]
  },
  {
   "cell_type": "markdown",
   "metadata": {},
   "source": [
    "**~72.70%** - these scores aren't moving very much with manual tuning.\n",
    "\n",
    "> Note: When we reduce `max_iter` to 10, our accuracy only drops to **~72.18%**. I will use this in the `StackingClassifier` later."
   ]
  },
  {
   "cell_type": "markdown",
   "metadata": {},
   "source": [
    "###  Simple Model 4 - Reduced regularization (`C`)"
   ]
  },
  {
   "cell_type": "markdown",
   "metadata": {},
   "source": [
    "Let's try tuning *one* more hyperparameter in the `LogisticRegression` class before moving on to something else. We'll also drop `max_iter` back down to the default 100 to reduce the amount of processing time needed in future calculations."
   ]
  },
  {
   "cell_type": "code",
   "execution_count": null,
   "metadata": {
    "ExecuteTime": {
     "end_time": "2022-04-21T14:32:54.454843Z",
     "start_time": "2022-04-21T14:32:54.362Z"
    }
   },
   "outputs": [],
   "source": [
    "# Reduced regularization by inflating C parameter\n",
    "logreg_less_reg = Pipeline(steps=[\n",
    "    ('ct', ct),\n",
    "    ('logreg', LogisticRegression(C = 1e5,\n",
    "                                  penalty = 'elasticnet',\n",
    "                                  l1_ratio = 0.6,\n",
    "                                  solver = 'saga',\n",
    "                                  random_state = 138))\n",
    "])"
   ]
  },
  {
   "cell_type": "code",
   "execution_count": null,
   "metadata": {
    "ExecuteTime": {
     "end_time": "2022-04-21T14:32:54.454843Z",
     "start_time": "2022-04-21T14:32:54.364Z"
    }
   },
   "outputs": [],
   "source": [
    "logreg_less_reg.fit(X_train, y_train)\n",
    "\n",
    "logreg_less_reg.score(X_train, y_train)"
   ]
  },
  {
   "cell_type": "markdown",
   "metadata": {},
   "source": [
    "No better when the `C` value is set slightly higher, i.e. reduced regularization - **~72.70%**.\n",
    "\n",
    "We're capping out at around **~72.72% accuracy** with various logistic regression models using this set of features. We're also still getting the `ConvergenceWarning`."
   ]
  },
  {
   "cell_type": "markdown",
   "metadata": {},
   "source": [
    "### `RandomForestClassifier` (RFC) Model 1"
   ]
  },
  {
   "cell_type": "code",
   "execution_count": null,
   "metadata": {
    "ExecuteTime": {
     "end_time": "2022-04-21T14:32:54.454843Z",
     "start_time": "2022-04-21T14:32:54.367Z"
    }
   },
   "outputs": [],
   "source": [
    "# Simple RFC - minimal changes from default hyperparams\n",
    "# Starting small w/ max_depth = 10\n",
    "rfc_model_pipe = Pipeline(steps=[\n",
    "    ('ct', ct),\n",
    "    ('rfc', RandomForestClassifier(max_depth = 10,\n",
    "                                   random_state = 138))\n",
    "])"
   ]
  },
  {
   "cell_type": "code",
   "execution_count": null,
   "metadata": {
    "ExecuteTime": {
     "end_time": "2022-04-21T14:32:54.463091Z",
     "start_time": "2022-04-21T14:32:54.369Z"
    }
   },
   "outputs": [],
   "source": [
    "rfc_model_pipe.fit(X_train, y_train)\n",
    "\n",
    "rfc_model_pipe.score(X_train, y_train)"
   ]
  },
  {
   "cell_type": "markdown",
   "metadata": {},
   "source": [
    "> Accuracy score on the RFC model with default parameters is around **76.23%**, already nearly a 3.5% increase from our best logistic regression model."
   ]
  },
  {
   "cell_type": "markdown",
   "metadata": {},
   "source": [
    "### RFC Model 2 - `max_features` to `sqrt`"
   ]
  },
  {
   "cell_type": "code",
   "execution_count": null,
   "metadata": {
    "ExecuteTime": {
     "end_time": "2022-04-21T14:32:54.464088Z",
     "start_time": "2022-04-21T14:32:54.371Z"
    }
   },
   "outputs": [],
   "source": [
    "rfc_pipe_two = Pipeline(steps=[\n",
    "    ('ct', ct),\n",
    "    ('rfc', RandomForestClassifier(max_features = 'sqrt',\n",
    "                                   max_depth = 10,\n",
    "                                   random_state = 138))\n",
    "])"
   ]
  },
  {
   "cell_type": "code",
   "execution_count": null,
   "metadata": {
    "ExecuteTime": {
     "end_time": "2022-04-21T14:32:54.465089Z",
     "start_time": "2022-04-21T14:32:54.373Z"
    },
    "scrolled": true
   },
   "outputs": [],
   "source": [
    "rfc_pipe_two.fit(X_train, y_train)\n",
    "\n",
    "rfc_pipe_two.score(X_train, y_train)"
   ]
  },
  {
   "cell_type": "markdown",
   "metadata": {},
   "source": [
    "> Identical accuracy score (76.23%) to our first RFC model, even after modifying `max_features` hyperparameter."
   ]
  },
  {
   "cell_type": "markdown",
   "metadata": {},
   "source": [
    "### `StackingClassifier` Model 1"
   ]
  },
  {
   "cell_type": "code",
   "execution_count": null,
   "metadata": {
    "ExecuteTime": {
     "end_time": "2022-04-21T14:32:54.467082Z",
     "start_time": "2022-04-21T14:32:54.375Z"
    },
    "scrolled": true
   },
   "outputs": [],
   "source": [
    "estimators = [\n",
    "    ('logreg_model', logreg_model_saga_elasnet),\n",
    "    ('rfc_model', rfc_pipe_two)\n",
    "]\n",
    "\n",
    "sc_model_pipe = StackingClassifier(estimators)"
   ]
  },
  {
   "cell_type": "code",
   "execution_count": null,
   "metadata": {
    "ExecuteTime": {
     "end_time": "2022-04-21T14:32:54.470075Z",
     "start_time": "2022-04-21T14:32:54.378Z"
    },
    "scrolled": false
   },
   "outputs": [],
   "source": [
    "sc_model_pipe.fit(X_train, y_train)\n",
    "\n",
    "sc_model_pipe.score(X_train, y_train)"
   ]
  },
  {
   "cell_type": "markdown",
   "metadata": {},
   "source": [
    "Our third logistic regression model - `logreg_model_saga_elasnet` - and our second RFC model - `rfc_pipe_two` - yielded an accuracy rate of **78.82%** when stacked, our best so far.\n",
    "\n",
    "It also took **two minutes** to run."
   ]
  },
  {
   "cell_type": "code",
   "execution_count": null,
   "metadata": {
    "ExecuteTime": {
     "end_time": "2022-04-21T14:32:54.472071Z",
     "start_time": "2022-04-21T14:32:54.380Z"
    },
    "scrolled": true
   },
   "outputs": [],
   "source": [
    "cross_val_score(sc_model_pipe, X_train, y_train).mean()"
   ]
  },
  {
   "cell_type": "markdown",
   "metadata": {},
   "source": [
    "> After running for about six minutes, we got a mean cross-validation score on this model (`LogisticRegression` and `RandomForestClassifier`, stacked) of **~76.81%**."
   ]
  },
  {
   "cell_type": "markdown",
   "metadata": {},
   "source": [
    "# Scrap Code"
   ]
  },
  {
   "cell_type": "code",
   "execution_count": null,
   "metadata": {
    "ExecuteTime": {
     "end_time": "2022-04-21T14:32:54.474062Z",
     "start_time": "2022-04-21T14:32:54.383Z"
    }
   },
   "outputs": [],
   "source": [
    "# X.loc[X['funder'].isna()].head();"
   ]
  },
  {
   "cell_type": "code",
   "execution_count": null,
   "metadata": {
    "ExecuteTime": {
     "end_time": "2022-04-21T14:32:54.475061Z",
     "start_time": "2022-04-21T14:32:54.385Z"
    }
   },
   "outputs": [],
   "source": [
    "# # Accessing one-hot encoded feature names\n",
    "# ohe_col_names = logreg_model_pipe.named_steps['ct'].named_transformers_['subpipe_cat']['ohe'].get_feature_names_out()\n",
    "\n",
    "# # Converting to list\n",
    "# ohe_col_names.tolist()"
   ]
  }
 ],
 "metadata": {
  "kernelspec": {
   "display_name": "Python (learn-env)",
   "language": "python",
   "name": "learn-env"
  },
  "language_info": {
   "codemirror_mode": {
    "name": "ipython",
    "version": 3
   },
   "file_extension": ".py",
   "mimetype": "text/x-python",
   "name": "python",
   "nbconvert_exporter": "python",
   "pygments_lexer": "ipython3",
   "version": "3.8.5"
  },
  "toc": {
   "base_numbering": 1,
   "nav_menu": {},
   "number_sections": true,
   "sideBar": true,
   "skip_h1_title": false,
   "title_cell": "Table of Contents",
   "title_sidebar": "Contents",
   "toc_cell": false,
   "toc_position": {
    "height": "calc(100% - 180px)",
    "left": "10px",
    "top": "150px",
    "width": "364px"
   },
   "toc_section_display": true,
   "toc_window_display": true
  },
  "varInspector": {
   "cols": {
    "lenName": 16,
    "lenType": 16,
    "lenVar": 40
   },
   "kernels_config": {
    "python": {
     "delete_cmd_postfix": "",
     "delete_cmd_prefix": "del ",
     "library": "var_list.py",
     "varRefreshCmd": "print(var_dic_list())"
    },
    "r": {
     "delete_cmd_postfix": ") ",
     "delete_cmd_prefix": "rm(",
     "library": "var_list.r",
     "varRefreshCmd": "cat(var_dic_list()) "
    }
   },
   "position": {
    "height": "318.844px",
    "left": "1550px",
    "right": "20px",
    "top": "120px",
    "width": "350px"
   },
   "types_to_exclude": [
    "module",
    "function",
    "builtin_function_or_method",
    "instance",
    "_Feature"
   ],
   "window_display": false
  }
 },
 "nbformat": 4,
 "nbformat_minor": 4
}
