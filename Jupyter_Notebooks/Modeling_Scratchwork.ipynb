{
 "cells": [
  {
   "cell_type": "markdown",
   "metadata": {},
   "source": [
    "# Modeling Scratchwork"
   ]
  },
  {
   "cell_type": "markdown",
   "metadata": {},
   "source": [
    "## Loading in Libraries and Data"
   ]
  },
  {
   "cell_type": "code",
   "execution_count": 1,
   "metadata": {
    "ExecuteTime": {
     "end_time": "2022-04-20T21:17:26.381726Z",
     "start_time": "2022-04-20T21:17:24.752946Z"
    }
   },
   "outputs": [],
   "source": [
    "# Packages for data cleaning, plotting, and manipulation\n",
    "\n",
    "import pandas as pd\n",
    "import numpy as np\n",
    "import matplotlib.pyplot as plt\n",
    "import seaborn as sns\n",
    "%matplotlib inline\n",
    "\n",
    "# scikit-learn libraries/functions/classes\n",
    "\n",
    "from sklearn.tree import DecisionTreeClassifier\n",
    "from sklearn.preprocessing import OneHotEncoder, LabelEncoder, StandardScaler\n",
    "from sklearn.pipeline import Pipeline\n",
    "from sklearn.model_selection import train_test_split, GridSearchCV, cross_val_score\n",
    "from sklearn.metrics import accuracy_score, precision_score, recall_score\n",
    "from sklearn.linear_model import LogisticRegression, RidgeCV\n",
    "from sklearn.impute import SimpleImputer, KNNImputer\n",
    "from sklearn.ensemble import RandomForestClassifier, GradientBoostingClassifier, \\\n",
    "                             StackingClassifier, ExtraTreesClassifier\n",
    "from sklearn.dummy import DummyClassifier\n",
    "from sklearn.compose import ColumnTransformer"
   ]
  },
  {
   "cell_type": "code",
   "execution_count": 2,
   "metadata": {
    "ExecuteTime": {
     "end_time": "2022-04-20T21:17:26.412354Z",
     "start_time": "2022-04-20T21:17:26.396282Z"
    }
   },
   "outputs": [],
   "source": [
    "# Shows *all* columns in dataframe, i.e. does not truncate horizontally;\n",
    "# feel free to comment out if undesired\n",
    "\n",
    "pd.set_option('display.max_columns', None)"
   ]
  },
  {
   "cell_type": "code",
   "execution_count": 3,
   "metadata": {
    "ExecuteTime": {
     "end_time": "2022-04-20T21:17:26.956337Z",
     "start_time": "2022-04-20T21:17:26.414349Z"
    },
    "scrolled": true
   },
   "outputs": [],
   "source": [
    "# Importing training data\n",
    "train_val = pd.read_csv('../data/training_set_values.csv')\n",
    "\n",
    "# Only using `status_group` column from label set, to\n",
    "# avoid duplicating `id` column\n",
    "train_label = pd.read_csv('../data/training_set_labels.csv',\n",
    "                             usecols = ['status_group'])\n",
    "\n",
    "\n",
    "# Test set - not to be used until models have been trained,\n",
    "# internally validated, etc.\n",
    "\n",
    "test_df = pd.read_csv('../data/test_set_values.csv')"
   ]
  },
  {
   "cell_type": "code",
   "execution_count": 4,
   "metadata": {
    "ExecuteTime": {
     "end_time": "2022-04-20T21:17:27.002881Z",
     "start_time": "2022-04-20T21:17:26.957191Z"
    },
    "scrolled": false
   },
   "outputs": [],
   "source": [
    "# Concatenating separate .csv files\n",
    "df = pd.concat(objs = [train_val, train_label],\n",
    "               axis = 1)"
   ]
  },
  {
   "cell_type": "markdown",
   "metadata": {},
   "source": [
    "## Feature Identification"
   ]
  },
  {
   "cell_type": "code",
   "execution_count": 5,
   "metadata": {
    "ExecuteTime": {
     "end_time": "2022-04-20T21:17:27.018967Z",
     "start_time": "2022-04-20T21:17:27.004846Z"
    }
   },
   "outputs": [],
   "source": [
    "# Dropping columns determined to be either irrelevant or\n",
    "# superfluous in exploratory analysis\n",
    "\n",
    "cols_to_drop = [\n",
    "    'id',  # unique identifier, not useful for modeling\n",
    "    'date_recorded',  # superfluous information, too many unique records\n",
    "    'recorded_by',  # no unique information + no unique values across 59.4k rows\n",
    "    'funder',   \n",
    "    'installer',  # large number of unique values (see also `funder`);\n",
    "                  # may be added back in later\n",
    "    'wpt_name',  # identifier column, not useful for modeling\n",
    "    'num_private',  # data dict. does not provide details for this column\n",
    "    'subvillage',  # too many unique values - uninformative for modeling\n",
    "    'region_code',  # redundant information vis-a-visa the simpler `region`\n",
    "    'district_code',  # may be added back in later\n",
    "    'lga',\n",
    "    'ward',  # redundant location data (with `lga`)\n",
    "    'scheme_management',  # may be added back in later\n",
    "    'scheme_name',  # large number of nulls, redundant vis-a-vis `scheme_management`\n",
    "    'extraction_type',\n",
    "    'extraction_type_group',  # using `extraction_type_class` for generalized info\n",
    "    'management',\n",
    "    'management_group',  # may be added back in later\n",
    "    'payment',  # identical information to `payment_type`\n",
    "    'water_quality',  # comparable information to `quality_group` - redundant\n",
    "    'quantity_group',  # identical information to `quantity` - redundant\n",
    "    'source',  # redundant with other `source_` columns\n",
    "    'waterpoint_type_group'  # used `waterpoint_type` instead\n",
    "]"
   ]
  },
  {
   "cell_type": "code",
   "execution_count": 6,
   "metadata": {
    "ExecuteTime": {
     "end_time": "2022-04-20T21:17:27.080609Z",
     "start_time": "2022-04-20T21:17:27.022104Z"
    }
   },
   "outputs": [],
   "source": [
    "df = df.drop(columns = cols_to_drop).copy()"
   ]
  },
  {
   "cell_type": "markdown",
   "metadata": {},
   "source": [
    "## Pipeline Creation"
   ]
  },
  {
   "cell_type": "markdown",
   "metadata": {},
   "source": [
    "Necessary modifications for modeling, to be written into pipelines:\n",
    "\n",
    "- One-hot encoding:\n",
    "    - `basin`\n",
    "    - `extraction_type_class`\n",
    "    - `payment_type`\n",
    "    - `permit`\n",
    "    - `public_meeting`\n",
    "    - `quality_group`\n",
    "    - `quantity`\n",
    "    - `region`\n",
    "    - `source_type`\n",
    "    - `source_class`\n",
    "    - `waterpoint_type`\n",
    "- Numerical scaling:\n",
    "    - `population` - (impute zeroes with median?)\n",
    "    - `gps_height` - impute zeroes with median\n",
    "    - `latitude` / `longitude` - impute zeroes with mean\n",
    "    - `construction_year` - use KNN imputing\n",
    "    \n",
    "Our target variable, `status_group`, will also be **label encoded** for readability and consistency:\n",
    "- `0` = 'functional'\n",
    "- `1` = 'non functional'\n",
    "- `2` = 'functional needs repair'"
   ]
  },
  {
   "cell_type": "code",
   "execution_count": 15,
   "metadata": {
    "ExecuteTime": {
     "end_time": "2022-04-20T21:20:45.642202Z",
     "start_time": "2022-04-20T21:20:45.628223Z"
    }
   },
   "outputs": [],
   "source": [
    "# Subpipes for imputing median values - to be used for `latitude` and `longitude`\n",
    "subpipe_lat      = Pipeline(steps=[('num_impute', SimpleImputer(missing_values = -2.000000e-08,\n",
    "                                                                strategy = 'median')),\n",
    "                                   ('ss', StandardScaler())])\n",
    "\n",
    "subpipe_long     = Pipeline(steps=[('num_impute', SimpleImputer(missing_values = 0.000000,\n",
    "                                                                strategy = 'median')),\n",
    "                                   ('ss', StandardScaler())])\n",
    "\n",
    "\n",
    "# Subpipe for imputing median values\n",
    "subpipe_num      = Pipeline(steps=[('num_impute', SimpleImputer(strategy = 'median')),\n",
    "                                   ('ss', StandardScaler())])\n",
    "\n",
    "# Subpipe for `construction_year`\n",
    "subpipe_year     = Pipeline(steps=[('num_impute', SimpleImputer(missing_values = 0,\n",
    "                                                                strategy = 'median')),\n",
    "                                   ('ss', StandardScaler())])\n",
    "\n",
    "# Subpipe for categorical features including `basin`, `payment_type`\n",
    "subpipe_cat      = Pipeline(steps=[('freq_imputer_nan', SimpleImputer(strategy = 'most_frequent')),\n",
    "                                   ('freq_imputer_unk', SimpleImputer(strategy = 'most_frequent',\n",
    "                                                                      missing_values = 'unknown')),\n",
    "                                   ('ohe', OneHotEncoder(drop = 'if_binary',\n",
    "                                                         sparse = False,\n",
    "                                                         handle_unknown = 'ignore'))])\n",
    "\n",
    "\n",
    "# Subpipe for the target column, `status_group`\n",
    "subpipe_label    = Pipeline(steps=[('le', LabelEncoder())])"
   ]
  },
  {
   "cell_type": "code",
   "execution_count": 16,
   "metadata": {
    "ExecuteTime": {
     "end_time": "2022-04-20T21:20:50.908593Z",
     "start_time": "2022-04-20T21:20:50.895184Z"
    }
   },
   "outputs": [],
   "source": [
    "# Columns to be passed through numerical pipeline\n",
    "num_cols = ['amount_tsh',\n",
    "            'gps_height',\n",
    "            'population']\n",
    "\n",
    "# Columns to be passed through categorical pipeline\n",
    "cat_cols = ['basin',\n",
    "            'region',\n",
    "            'payment_type',\n",
    "            'quantity',\n",
    "            'quality_group',\n",
    "            'permit',\n",
    "            'public_meeting',\n",
    "            'extraction_type_class',\n",
    "            'source_type',\n",
    "            'source_class',\n",
    "            'waterpoint_type']"
   ]
  },
  {
   "cell_type": "code",
   "execution_count": 17,
   "metadata": {
    "ExecuteTime": {
     "end_time": "2022-04-20T21:20:53.506337Z",
     "start_time": "2022-04-20T21:20:53.500355Z"
    }
   },
   "outputs": [],
   "source": [
    "ct = ColumnTransformer(transformers = [\n",
    "    ('subpipe_num', subpipe_num, num_cols),\n",
    "    ('subpipe_year', subpipe_year, ['construction_year']),\n",
    "    ('subpipe_long', subpipe_long, ['longitude']),\n",
    "    ('subpipe_lat', subpipe_lat, ['latitude']),\n",
    "    ('subpipe_cat', subpipe_cat, cat_cols)],\n",
    "                       remainder = 'passthrough')\n",
    "\n",
    "# ('subpipe_label', subpipe_label, ['status_group'])"
   ]
  },
  {
   "cell_type": "markdown",
   "metadata": {},
   "source": [
    "### Train/Test Split and Initial Preparation for ML"
   ]
  },
  {
   "cell_type": "code",
   "execution_count": 18,
   "metadata": {
    "ExecuteTime": {
     "end_time": "2022-04-20T21:20:54.509694Z",
     "start_time": "2022-04-20T21:20:54.495950Z"
    }
   },
   "outputs": [],
   "source": [
    "# Splitting DataFrame into features/values DataFrame\n",
    "# (i.e. `X`) and labels series (`y`)\n",
    "\n",
    "X = df.drop('status_group', axis = 1)\n",
    "y = df['status_group']"
   ]
  },
  {
   "cell_type": "code",
   "execution_count": 19,
   "metadata": {
    "ExecuteTime": {
     "end_time": "2022-04-20T21:20:55.816398Z",
     "start_time": "2022-04-20T21:20:55.785885Z"
    }
   },
   "outputs": [],
   "source": [
    "# Splitting internal training data into separate\n",
    "# training and test sets for (eventual) internal validation\n",
    "\n",
    "X_train, X_test, y_train, y_test = train_test_split(X, y, test_size = 0.33, random_state = 138)"
   ]
  },
  {
   "cell_type": "markdown",
   "metadata": {},
   "source": [
    "### `DummyClassifier`"
   ]
  },
  {
   "cell_type": "code",
   "execution_count": 20,
   "metadata": {
    "ExecuteTime": {
     "end_time": "2022-04-20T21:20:56.796052Z",
     "start_time": "2022-04-20T21:20:56.783128Z"
    }
   },
   "outputs": [],
   "source": [
    "dummy_model_pipe = Pipeline(steps=[\n",
    "    ('ct', ct),\n",
    "    ('dummy', DummyClassifier())\n",
    "])"
   ]
  },
  {
   "cell_type": "code",
   "execution_count": 21,
   "metadata": {
    "ExecuteTime": {
     "end_time": "2022-04-20T21:20:58.282999Z",
     "start_time": "2022-04-20T21:20:57.786955Z"
    },
    "scrolled": true
   },
   "outputs": [
    {
     "data": {
      "text/plain": [
       "0.5420875420875421"
      ]
     },
     "execution_count": 21,
     "metadata": {},
     "output_type": "execute_result"
    }
   ],
   "source": [
    "# Fit on training data\n",
    "dummy_model_pipe.fit(X_train, y_train)\n",
    "\n",
    "# Score on training data\n",
    "dummy_model_pipe.score(X_train, y_train)"
   ]
  },
  {
   "cell_type": "markdown",
   "metadata": {},
   "source": [
    "scikit-learn's `DummyClassifier` predicts on the training data with an accuracy score of ~0.542, equal to the proportion of the **most frequent class** (`functional`). This is because, as a dummy model, it predicts `functional` (the most frequent value) every time.\n",
    "\n",
    "We'll be looking to improve on that 54.2% accuracy in future models."
   ]
  },
  {
   "cell_type": "markdown",
   "metadata": {},
   "source": [
    "### Simple Model 1 - Logistic Regression, default hyperparameters"
   ]
  },
  {
   "cell_type": "code",
   "execution_count": 22,
   "metadata": {
    "ExecuteTime": {
     "end_time": "2022-04-20T21:21:01.637884Z",
     "start_time": "2022-04-20T21:21:01.629262Z"
    }
   },
   "outputs": [],
   "source": [
    "# Default arguments - max iterations set to 100\n",
    "logreg_model_simple = Pipeline(steps=[\n",
    "    ('ct', ct),\n",
    "    ('logreg', LogisticRegression(random_state = 138))\n",
    "])"
   ]
  },
  {
   "cell_type": "code",
   "execution_count": 23,
   "metadata": {
    "ExecuteTime": {
     "end_time": "2022-04-20T21:21:05.197697Z",
     "start_time": "2022-04-20T21:21:02.896312Z"
    },
    "scrolled": false
   },
   "outputs": [
    {
     "name": "stderr",
     "output_type": "stream",
     "text": [
      "C:\\Users\\toast\\anaconda3\\envs\\learn-env\\lib\\site-packages\\sklearn\\linear_model\\_logistic.py:814: ConvergenceWarning: lbfgs failed to converge (status=1):\n",
      "STOP: TOTAL NO. of ITERATIONS REACHED LIMIT.\n",
      "\n",
      "Increase the number of iterations (max_iter) or scale the data as shown in:\n",
      "    https://scikit-learn.org/stable/modules/preprocessing.html\n",
      "Please also refer to the documentation for alternative solver options:\n",
      "    https://scikit-learn.org/stable/modules/linear_model.html#logistic-regression\n",
      "  n_iter_i = _check_optimize_result(\n"
     ]
    },
    {
     "data": {
      "text/plain": [
       "0.7270968390371375"
      ]
     },
     "execution_count": 23,
     "metadata": {},
     "output_type": "execute_result"
    }
   ],
   "source": [
    "logreg_model_simple.fit(X_train, y_train)\n",
    "\n",
    "logreg_model_simple.score(X_train, y_train)"
   ]
  },
  {
   "cell_type": "markdown",
   "metadata": {},
   "source": [
    "> First simple model is giving us an accuracy rate of **72.69%** - and a `ConvergenceWarning`."
   ]
  }
 ],
 "metadata": {
  "kernelspec": {
   "display_name": "Python (learn-env)",
   "language": "python",
   "name": "learn-env"
  },
  "language_info": {
   "codemirror_mode": {
    "name": "ipython",
    "version": 3
   },
   "file_extension": ".py",
   "mimetype": "text/x-python",
   "name": "python",
   "nbconvert_exporter": "python",
   "pygments_lexer": "ipython3",
   "version": "3.8.5"
  },
  "toc": {
   "base_numbering": 1,
   "nav_menu": {},
   "number_sections": true,
   "sideBar": true,
   "skip_h1_title": false,
   "title_cell": "Table of Contents",
   "title_sidebar": "Contents",
   "toc_cell": false,
   "toc_position": {},
   "toc_section_display": true,
   "toc_window_display": false
  },
  "varInspector": {
   "cols": {
    "lenName": 16,
    "lenType": 16,
    "lenVar": 40
   },
   "kernels_config": {
    "python": {
     "delete_cmd_postfix": "",
     "delete_cmd_prefix": "del ",
     "library": "var_list.py",
     "varRefreshCmd": "print(var_dic_list())"
    },
    "r": {
     "delete_cmd_postfix": ") ",
     "delete_cmd_prefix": "rm(",
     "library": "var_list.r",
     "varRefreshCmd": "cat(var_dic_list()) "
    }
   },
   "types_to_exclude": [
    "module",
    "function",
    "builtin_function_or_method",
    "instance",
    "_Feature"
   ],
   "window_display": false
  }
 },
 "nbformat": 4,
 "nbformat_minor": 4
}
